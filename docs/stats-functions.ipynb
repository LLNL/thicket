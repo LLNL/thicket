{
 "cells": [
  {
   "cell_type": "markdown",
   "id": "5f724ab5",
   "metadata": {
    "papermill": {
     "duration": 0.029822,
     "end_time": "2024-03-26T22:19:37.853389",
     "exception": false,
     "start_time": "2024-03-26T22:19:37.823567",
     "status": "completed"
    },
    "tags": []
   },
   "source": [
    "# Statistical and Visualization Functions: Thicket Tutorial\n",
    "\n",
    "Thicket is a python-based toolkit for Exploratory Data Analysis (EDA) of parallel performance data that enables performance optimization and understanding of applications’ performance on supercomputers. It bridges the performance tool gap between being able to consider only a single instance of a simulation run (e.g., single platform, single measurement tool, or single scale) and finding actionable insights in multi-dimensional, multi-scale, multi-architecture, and multi-tool performance datasets.\n",
    "\n",
    "**NOTE: An interactive version of this notebook is available in the Binder environment.**\n",
    "\n",
    "[![Binder](https://mybinder.org/badge_logo.svg)](https://mybinder.org/v2/gh/llnl/thicket-tutorial/develop)\n",
    "\n",
    "***\n",
    "\n",
    "## 1. Import Necessary Packages\n",
    "\n",
    "To explore the structure and various capabilities of thicket components, we begin by importing necessary packages. "
   ]
  },
  {
   "cell_type": "code",
   "execution_count": null,
   "id": "90484b9c",
   "metadata": {
    "execution": {
     "iopub.execute_input": "2024-03-26T22:19:37.865484Z",
     "iopub.status.busy": "2024-03-26T22:19:37.865354Z",
     "iopub.status.idle": "2024-03-26T22:19:38.393572Z",
     "shell.execute_reply": "2024-03-26T22:19:38.393202Z"
    },
    "papermill": {
     "duration": 0.534868,
     "end_time": "2024-03-26T22:19:38.394227",
     "exception": false,
     "start_time": "2024-03-26T22:19:37.859359",
     "status": "completed"
    },
    "tags": []
   },
   "outputs": [],
   "source": [
    "import matplotlib.pyplot as plt\n",
    "import seaborn as sns\n",
    "import pandas as pd\n",
    "import numpy as np\n",
    "from IPython.display import display\n",
    "from IPython.display import HTML\n",
    "import hatchet as ht\n",
    "\n",
    "import thicket as th\n",
    "\n",
    "pd.set_option(\"display.max_rows\", None)\n",
    "pd.set_option(\"display.max_columns\", None)"
   ]
  },
  {
   "cell_type": "markdown",
   "id": "85d6bf44",
   "metadata": {
    "papermill": {
     "duration": 0.005558,
     "end_time": "2024-03-26T22:19:38.405977",
     "exception": false,
     "start_time": "2024-03-26T22:19:38.400419",
     "status": "completed"
    },
    "tags": []
   },
   "source": [
    "## 2. Read in Performance Profiles\n",
    "\n",
    "For this notebook, we select profiles generated on Lawrence Livermore National Lab (LLNL) machine, lassen. We create two thicket objects, one generated with the same problem size of 1048576 and the other generated with different problem sizes (1048576 and 4194304).   "
   ]
  },
  {
   "cell_type": "code",
   "execution_count": null,
   "id": "d2385473",
   "metadata": {
    "execution": {
     "iopub.execute_input": "2024-03-26T22:19:38.417395Z",
     "iopub.status.busy": "2024-03-26T22:19:38.417234Z",
     "iopub.status.idle": "2024-03-26T22:19:38.941334Z",
     "shell.execute_reply": "2024-03-26T22:19:38.940993Z"
    },
    "papermill": {
     "duration": 0.530595,
     "end_time": "2024-03-26T22:19:38.941964",
     "exception": false,
     "start_time": "2024-03-26T22:19:38.411369",
     "status": "completed"
    },
    "tags": []
   },
   "outputs": [],
   "source": [
    "clang = \"../data/quartz/clang14.0.6_BaseSeq_8388608/\"\n",
    "gcc = \"../data/quartz/GCC_10.3.1_BaseSeq_08388608/O3\"\n",
    "\n",
    "# create thickets for each dataset originating from clang and gcc compilers\n",
    "clang_th = th.Thicket.from_caliperreader(clang)\n",
    "gcc_th = th.Thicket.from_caliperreader(gcc)"
   ]
  },
  {
   "cell_type": "markdown",
   "id": "62bd944c",
   "metadata": {
    "papermill": {
     "duration": 0.005655,
     "end_time": "2024-03-26T22:19:38.953426",
     "exception": false,
     "start_time": "2024-03-26T22:19:38.947771",
     "status": "completed"
    },
    "tags": []
   },
   "source": [
    "## 3. More Information on a Function\n",
    "\n",
    "You can use the `help()` method within Python to see the information for a given object. You can do this by typing `help(object)`. \n",
    "This will allow you to see the arguments for the function, and what will be returned. An example is below."
   ]
  },
  {
   "cell_type": "code",
   "execution_count": null,
   "id": "76878f91",
   "metadata": {
    "execution": {
     "iopub.execute_input": "2024-03-26T22:19:38.964823Z",
     "iopub.status.busy": "2024-03-26T22:19:38.964706Z",
     "iopub.status.idle": "2024-03-26T22:19:38.967356Z",
     "shell.execute_reply": "2024-03-26T22:19:38.967056Z"
    },
    "papermill": {
     "duration": 0.009118,
     "end_time": "2024-03-26T22:19:38.967914",
     "exception": false,
     "start_time": "2024-03-26T22:19:38.958796",
     "status": "completed"
    },
    "tags": []
   },
   "outputs": [],
   "source": [
    "help(th.median)"
   ]
  },
  {
   "cell_type": "markdown",
   "id": "cc92a407",
   "metadata": {
    "papermill": {
     "duration": 0.005355,
     "end_time": "2024-03-26T22:19:38.978736",
     "exception": false,
     "start_time": "2024-03-26T22:19:38.973381",
     "status": "completed"
    },
    "tags": []
   },
   "source": [
    "## 4. Creating a Combined Thicket\n",
    "\n",
    "To demonstrate the functions on both a thicket and a combined thicket, we create a combined thicket."
   ]
  },
  {
   "cell_type": "code",
   "execution_count": null,
   "id": "2ac69440",
   "metadata": {
    "execution": {
     "iopub.execute_input": "2024-03-26T22:19:38.990114Z",
     "iopub.status.busy": "2024-03-26T22:19:38.990008Z",
     "iopub.status.idle": "2024-03-26T22:19:39.061464Z",
     "shell.execute_reply": "2024-03-26T22:19:39.061141Z"
    },
    "papermill": {
     "duration": 0.078105,
     "end_time": "2024-03-26T22:19:39.062127",
     "exception": false,
     "start_time": "2024-03-26T22:19:38.984022",
     "status": "completed"
    },
    "tags": []
   },
   "outputs": [],
   "source": [
    "combined_th = th.Thicket.concat_thickets(\n",
    "    axis=\"columns\",\n",
    "    thickets=[clang_th, gcc_th],\n",
    "    headers=[\"Clang\", \"GCC\"]\n",
    ")\n",
    "combined_th.dataframe.head(5)"
   ]
  },
  {
   "cell_type": "markdown",
   "id": "cb21574b",
   "metadata": {
    "papermill": {
     "duration": 0.005819,
     "end_time": "2024-03-26T22:19:39.074117",
     "exception": false,
     "start_time": "2024-03-26T22:19:39.068298",
     "status": "completed"
    },
    "tags": []
   },
   "source": [
    "**NOTE**\n",
    "- Single indexed statistical functions append columns to the right.\n",
    "- Columnar joined thickets are ordered in alphabetical order by column index and also by the columns underneath a column index. "
   ]
  },
  {
   "cell_type": "markdown",
   "id": "177c033a",
   "metadata": {
    "papermill": {
     "duration": 0.005689,
     "end_time": "2024-03-26T22:19:39.085739",
     "exception": false,
     "start_time": "2024-03-26T22:19:39.080050",
     "status": "completed"
    },
    "tags": []
   },
   "source": [
    "## 5. Aggregated Statistic Functions"
   ]
  },
  {
   "cell_type": "markdown",
   "id": "a08bc5a3",
   "metadata": {
    "papermill": {
     "duration": 0.00565,
     "end_time": "2024-03-26T22:19:39.097572",
     "exception": false,
     "start_time": "2024-03-26T22:19:39.091922",
     "status": "completed"
    },
    "tags": []
   },
   "source": [
    "###  5.1 Maximum\n",
    "The `maximum` function will determine the maximum value for each node in the performance data table. In other terms, the maximum is the highest observation for a node and its associated profiles. <br>\n",
    "\n",
    "The maximum value will be appended to the aggregated statistics table and will be denoted with `_max` at the end of column name i.e. `column_max`."
   ]
  },
  {
   "cell_type": "markdown",
   "id": "f0fb7c67",
   "metadata": {
    "papermill": {
     "duration": 0.005654,
     "end_time": "2024-03-26T22:19:39.108913",
     "exception": false,
     "start_time": "2024-03-26T22:19:39.103259",
     "status": "completed"
    },
    "tags": []
   },
   "source": [
    "**Single Index Thicket Example**"
   ]
  },
  {
   "cell_type": "code",
   "execution_count": null,
   "id": "acf6f1a8",
   "metadata": {
    "execution": {
     "iopub.execute_input": "2024-03-26T22:19:39.120922Z",
     "iopub.status.busy": "2024-03-26T22:19:39.120794Z",
     "iopub.status.idle": "2024-03-26T22:19:39.123268Z",
     "shell.execute_reply": "2024-03-26T22:19:39.123031Z"
    },
    "papermill": {
     "duration": 0.0092,
     "end_time": "2024-03-26T22:19:39.123823",
     "exception": false,
     "start_time": "2024-03-26T22:19:39.114623",
     "status": "completed"
    },
    "tags": []
   },
   "outputs": [],
   "source": [
    "# define metrics to calculate the maximum on\n",
    "metrics = [\"time (exc)\", \"Machine clears\"]"
   ]
  },
  {
   "cell_type": "code",
   "execution_count": null,
   "id": "72b5d453",
   "metadata": {
    "execution": {
     "iopub.execute_input": "2024-03-26T22:19:39.135714Z",
     "iopub.status.busy": "2024-03-26T22:19:39.135617Z",
     "iopub.status.idle": "2024-03-26T22:19:39.141270Z",
     "shell.execute_reply": "2024-03-26T22:19:39.140875Z"
    },
    "papermill": {
     "duration": 0.012245,
     "end_time": "2024-03-26T22:19:39.141831",
     "exception": false,
     "start_time": "2024-03-26T22:19:39.129586",
     "status": "completed"
    },
    "tags": []
   },
   "outputs": [],
   "source": [
    "th.maximum(clang_th, columns=metrics)\n",
    "# view the first 5 entries of the aggregated statistics table\n",
    "clang_th.statsframe.dataframe.head(5)"
   ]
  },
  {
   "cell_type": "markdown",
   "id": "8538da85",
   "metadata": {
    "papermill": {
     "duration": 0.005646,
     "end_time": "2024-03-26T22:19:39.164247",
     "exception": false,
     "start_time": "2024-03-26T22:19:39.158601",
     "status": "completed"
    },
    "tags": []
   },
   "source": [
    "**Multi-Indexed Thicket Example**\n",
    "\n",
    "Example demonstrates how to pass a columnar joined thicket object. When passing a columnar joined thicket object, the columns argument will now take a list of tuples. Each tuple will consist of two elements. The first element will always be the column index, and the second element will be an associated column under the column index you passed.<br>\n",
    "\n",
    " - Example: (column_index, column_name) -> (\"GCC\", \"Machine clears\")"
   ]
  },
  {
   "cell_type": "code",
   "execution_count": null,
   "id": "90f7e799",
   "metadata": {
    "execution": {
     "iopub.execute_input": "2024-03-26T22:19:39.176230Z",
     "iopub.status.busy": "2024-03-26T22:19:39.176108Z",
     "iopub.status.idle": "2024-03-26T22:19:39.178332Z",
     "shell.execute_reply": "2024-03-26T22:19:39.178037Z"
    },
    "papermill": {
     "duration": 0.008821,
     "end_time": "2024-03-26T22:19:39.178839",
     "exception": false,
     "start_time": "2024-03-26T22:19:39.170018",
     "status": "completed"
    },
    "tags": []
   },
   "outputs": [],
   "source": [
    "metrics = [(\"Clang\", \"time (exc)\"), (\"GCC\", \"Machine clears\")]"
   ]
  },
  {
   "cell_type": "code",
   "execution_count": null,
   "id": "7a1e0fb7",
   "metadata": {
    "execution": {
     "iopub.execute_input": "2024-03-26T22:19:39.190948Z",
     "iopub.status.busy": "2024-03-26T22:19:39.190837Z",
     "iopub.status.idle": "2024-03-26T22:19:39.199459Z",
     "shell.execute_reply": "2024-03-26T22:19:39.199194Z"
    },
    "papermill": {
     "duration": 0.015349,
     "end_time": "2024-03-26T22:19:39.200063",
     "exception": false,
     "start_time": "2024-03-26T22:19:39.184714",
     "status": "completed"
    },
    "tags": []
   },
   "outputs": [],
   "source": [
    "th.maximum(combined_th, columns=metrics)\n",
    "combined_th.statsframe.dataframe.head(5)"
   ]
  },
  {
   "cell_type": "markdown",
   "id": "b6e77f42",
   "metadata": {
    "papermill": {
     "duration": 0.005848,
     "end_time": "2024-03-26T22:19:39.212069",
     "exception": false,
     "start_time": "2024-03-26T22:19:39.206221",
     "status": "completed"
    },
    "tags": []
   },
   "source": [
    "### 5.2 Minimum\n",
    "\n",
    "The `minimum` function will determine the minimum value for each node in the performance data table. In other terms, the minimum is the lowest observation for a node and its associated profiles. <br>\n",
    "\n",
    "The minimum value will be appended to the aggregated statistics table and will be denoted with `_min` at the end of column name i.e. `column_min`."
   ]
  },
  {
   "cell_type": "markdown",
   "id": "514a9554",
   "metadata": {
    "papermill": {
     "duration": 0.005843,
     "end_time": "2024-03-26T22:19:39.223772",
     "exception": false,
     "start_time": "2024-03-26T22:19:39.217929",
     "status": "completed"
    },
    "tags": []
   },
   "source": [
    "**Single Index Thicket Example**"
   ]
  },
  {
   "cell_type": "code",
   "execution_count": null,
   "id": "63b72829",
   "metadata": {
    "execution": {
     "iopub.execute_input": "2024-03-26T22:19:39.236280Z",
     "iopub.status.busy": "2024-03-26T22:19:39.236161Z",
     "iopub.status.idle": "2024-03-26T22:19:39.238279Z",
     "shell.execute_reply": "2024-03-26T22:19:39.238048Z"
    },
    "papermill": {
     "duration": 0.009274,
     "end_time": "2024-03-26T22:19:39.238961",
     "exception": false,
     "start_time": "2024-03-26T22:19:39.229687",
     "status": "completed"
    },
    "tags": []
   },
   "outputs": [],
   "source": [
    "metrics = [\"time (exc)\", \"Machine clears\"]"
   ]
  },
  {
   "cell_type": "code",
   "execution_count": null,
   "id": "c3184956",
   "metadata": {
    "execution": {
     "iopub.execute_input": "2024-03-26T22:19:39.251461Z",
     "iopub.status.busy": "2024-03-26T22:19:39.251362Z",
     "iopub.status.idle": "2024-03-26T22:19:39.258447Z",
     "shell.execute_reply": "2024-03-26T22:19:39.258155Z"
    },
    "papermill": {
     "duration": 0.013955,
     "end_time": "2024-03-26T22:19:39.259000",
     "exception": false,
     "start_time": "2024-03-26T22:19:39.245045",
     "status": "completed"
    },
    "tags": []
   },
   "outputs": [],
   "source": [
    "th.minimum(clang_th, columns=metrics)\n",
    "clang_th.statsframe.dataframe.head(5)"
   ]
  },
  {
   "cell_type": "markdown",
   "id": "2bf1fd03",
   "metadata": {
    "papermill": {
     "duration": 0.006008,
     "end_time": "2024-03-26T22:19:39.271257",
     "exception": false,
     "start_time": "2024-03-26T22:19:39.265249",
     "status": "completed"
    },
    "tags": []
   },
   "source": [
    "**Multi-Indexed Thicket Example**\n",
    "\n",
    "Example will show how to pass a columnar joined thicket object. When passing a columnar joined thicket object, the columns argument will now take a list of tuples. Each tuple will consist of two elements. The first element will always be the column index, and the second element will be an associated column under the column index you passed.<br>\n",
    "\n",
    " - Example: (column_index, column_name) -> (\"GCC\", \"Machine clears\")"
   ]
  },
  {
   "cell_type": "code",
   "execution_count": null,
   "id": "07168bd4",
   "metadata": {
    "execution": {
     "iopub.execute_input": "2024-03-26T22:19:39.283956Z",
     "iopub.status.busy": "2024-03-26T22:19:39.283841Z",
     "iopub.status.idle": "2024-03-26T22:19:39.286278Z",
     "shell.execute_reply": "2024-03-26T22:19:39.286040Z"
    },
    "papermill": {
     "duration": 0.00952,
     "end_time": "2024-03-26T22:19:39.286843",
     "exception": false,
     "start_time": "2024-03-26T22:19:39.277323",
     "status": "completed"
    },
    "tags": []
   },
   "outputs": [],
   "source": [
    "metrics = [(\"Clang\", \"time (exc)\"), (\"GCC\", \"Machine clears\")]"
   ]
  },
  {
   "cell_type": "code",
   "execution_count": null,
   "id": "2ad5985d",
   "metadata": {
    "execution": {
     "iopub.execute_input": "2024-03-26T22:19:39.299159Z",
     "iopub.status.busy": "2024-03-26T22:19:39.299070Z",
     "iopub.status.idle": "2024-03-26T22:19:39.307343Z",
     "shell.execute_reply": "2024-03-26T22:19:39.307058Z"
    },
    "papermill": {
     "duration": 0.015077,
     "end_time": "2024-03-26T22:19:39.307939",
     "exception": false,
     "start_time": "2024-03-26T22:19:39.292862",
     "status": "completed"
    },
    "tags": []
   },
   "outputs": [],
   "source": [
    "th.minimum(combined_th, columns=metrics)\n",
    "combined_th.statsframe.dataframe.head(5)"
   ]
  },
  {
   "cell_type": "markdown",
   "id": "164d7769",
   "metadata": {
    "papermill": {
     "duration": 0.006024,
     "end_time": "2024-03-26T22:19:39.320129",
     "exception": false,
     "start_time": "2024-03-26T22:19:39.314105",
     "status": "completed"
    },
    "tags": []
   },
   "source": [
    "### 5.3 Median\n",
    "\n",
    "The `median` function will determine the median for each node in the performance data table. <br>\n",
    "\n",
    "The median value will be appended to the aggregated statistics table and will be denoted with `_median` at the end of column name i.e. `column_median`."
   ]
  },
  {
   "cell_type": "markdown",
   "id": "ac3ace3d",
   "metadata": {
    "papermill": {
     "duration": 0.006039,
     "end_time": "2024-03-26T22:19:39.332230",
     "exception": false,
     "start_time": "2024-03-26T22:19:39.326191",
     "status": "completed"
    },
    "tags": []
   },
   "source": [
    "**Single Index Thicket Example**"
   ]
  },
  {
   "cell_type": "code",
   "execution_count": null,
   "id": "d77c4e73",
   "metadata": {
    "execution": {
     "iopub.execute_input": "2024-03-26T22:19:39.344940Z",
     "iopub.status.busy": "2024-03-26T22:19:39.344821Z",
     "iopub.status.idle": "2024-03-26T22:19:39.347281Z",
     "shell.execute_reply": "2024-03-26T22:19:39.347042Z"
    },
    "papermill": {
     "duration": 0.009569,
     "end_time": "2024-03-26T22:19:39.347851",
     "exception": false,
     "start_time": "2024-03-26T22:19:39.338282",
     "status": "completed"
    },
    "tags": []
   },
   "outputs": [],
   "source": [
    "metrics = [\"time (exc)\", \"Machine clears\"]"
   ]
  },
  {
   "cell_type": "code",
   "execution_count": null,
   "id": "ab9a8a66",
   "metadata": {
    "execution": {
     "iopub.execute_input": "2024-03-26T22:19:39.360450Z",
     "iopub.status.busy": "2024-03-26T22:19:39.360348Z",
     "iopub.status.idle": "2024-03-26T22:19:39.367260Z",
     "shell.execute_reply": "2024-03-26T22:19:39.367016Z"
    },
    "papermill": {
     "duration": 0.013859,
     "end_time": "2024-03-26T22:19:39.367795",
     "exception": false,
     "start_time": "2024-03-26T22:19:39.353936",
     "status": "completed"
    },
    "tags": []
   },
   "outputs": [],
   "source": [
    "th.median(clang_th, columns=metrics)\n",
    "clang_th.statsframe.dataframe.head(5)"
   ]
  },
  {
   "cell_type": "markdown",
   "id": "2ae0b6f8",
   "metadata": {
    "papermill": {
     "duration": 0.00607,
     "end_time": "2024-03-26T22:19:39.380167",
     "exception": false,
     "start_time": "2024-03-26T22:19:39.374097",
     "status": "completed"
    },
    "tags": []
   },
   "source": [
    "**Multi-Indexed Thicket Example**\n",
    "\n",
    "Example will show how to pass a columnar joined thicket object. When passing a columnar joined thicket object, the columns argument will now take a list of tuples. Each tuple will consist of two elements. The first element will always be the column index, and the second element will be an associated column under the column index you passed.<br>\n",
    "\n",
    " - Example: (column_index, column_name) -> (\"GCC\", \"Machine clears\") "
   ]
  },
  {
   "cell_type": "code",
   "execution_count": null,
   "id": "107d8d80",
   "metadata": {
    "execution": {
     "iopub.execute_input": "2024-03-26T22:19:39.393263Z",
     "iopub.status.busy": "2024-03-26T22:19:39.393171Z",
     "iopub.status.idle": "2024-03-26T22:19:39.395270Z",
     "shell.execute_reply": "2024-03-26T22:19:39.395037Z"
    },
    "papermill": {
     "duration": 0.009448,
     "end_time": "2024-03-26T22:19:39.395792",
     "exception": false,
     "start_time": "2024-03-26T22:19:39.386344",
     "status": "completed"
    },
    "tags": []
   },
   "outputs": [],
   "source": [
    "metrics = [(\"Clang\", \"time (exc)\"), (\"GCC\", \"Machine clears\")]"
   ]
  },
  {
   "cell_type": "code",
   "execution_count": null,
   "id": "8ef12866",
   "metadata": {
    "execution": {
     "iopub.execute_input": "2024-03-26T22:19:39.408717Z",
     "iopub.status.busy": "2024-03-26T22:19:39.408613Z",
     "iopub.status.idle": "2024-03-26T22:19:39.417280Z",
     "shell.execute_reply": "2024-03-26T22:19:39.417013Z"
    },
    "papermill": {
     "duration": 0.015645,
     "end_time": "2024-03-26T22:19:39.417797",
     "exception": false,
     "start_time": "2024-03-26T22:19:39.402152",
     "status": "completed"
    },
    "tags": []
   },
   "outputs": [],
   "source": [
    "th.median(combined_th, columns=metrics)\n",
    "combined_th.statsframe.dataframe.head(5)"
   ]
  },
  {
   "cell_type": "markdown",
   "id": "7445a168",
   "metadata": {
    "papermill": {
     "duration": 0.006395,
     "end_time": "2024-03-26T22:19:39.430850",
     "exception": false,
     "start_time": "2024-03-26T22:19:39.424455",
     "status": "completed"
    },
    "tags": []
   },
   "source": [
    "### 5.4 Mean\n",
    "\n",
    "The `mean` function will determine the mean for each node in the performance data table. <br>\n",
    "\n",
    "The mean value will be appended to the aggregated statistics table and will be denoted with `_mean` at the end of column name i.e. `column_mean`."
   ]
  },
  {
   "cell_type": "markdown",
   "id": "3475ced2",
   "metadata": {
    "papermill": {
     "duration": 0.006351,
     "end_time": "2024-03-26T22:19:39.443526",
     "exception": false,
     "start_time": "2024-03-26T22:19:39.437175",
     "status": "completed"
    },
    "tags": []
   },
   "source": [
    "**Single Index Thicket Example**"
   ]
  },
  {
   "cell_type": "code",
   "execution_count": null,
   "id": "d20f8bfc",
   "metadata": {
    "execution": {
     "iopub.execute_input": "2024-03-26T22:19:39.457109Z",
     "iopub.status.busy": "2024-03-26T22:19:39.456983Z",
     "iopub.status.idle": "2024-03-26T22:19:39.459450Z",
     "shell.execute_reply": "2024-03-26T22:19:39.459107Z"
    },
    "papermill": {
     "duration": 0.010085,
     "end_time": "2024-03-26T22:19:39.460049",
     "exception": false,
     "start_time": "2024-03-26T22:19:39.449964",
     "status": "completed"
    },
    "tags": []
   },
   "outputs": [],
   "source": [
    "metrics = [\"time (exc)\", \"Machine clears\"]"
   ]
  },
  {
   "cell_type": "code",
   "execution_count": null,
   "id": "131e85ea",
   "metadata": {
    "execution": {
     "iopub.execute_input": "2024-03-26T22:19:39.473417Z",
     "iopub.status.busy": "2024-03-26T22:19:39.473290Z",
     "iopub.status.idle": "2024-03-26T22:19:39.481439Z",
     "shell.execute_reply": "2024-03-26T22:19:39.481173Z"
    },
    "papermill": {
     "duration": 0.015532,
     "end_time": "2024-03-26T22:19:39.482029",
     "exception": false,
     "start_time": "2024-03-26T22:19:39.466497",
     "status": "completed"
    },
    "tags": []
   },
   "outputs": [],
   "source": [
    "th.mean(clang_th, columns=metrics)\n",
    "clang_th.statsframe.dataframe.head(5)"
   ]
  },
  {
   "cell_type": "markdown",
   "id": "38e5d7e0",
   "metadata": {
    "papermill": {
     "duration": 0.006673,
     "end_time": "2024-03-26T22:19:39.495654",
     "exception": false,
     "start_time": "2024-03-26T22:19:39.488981",
     "status": "completed"
    },
    "tags": []
   },
   "source": [
    "**Multi-Indexed Thicket Example**\n",
    "\n",
    "Example will show how to pass a columnar joined thicket object. When passing a columnar joined thicket object, the columns argument will now take a list of tuples. Each tuple will consist of two elements. The first element will always be the column index, and the second element will be an associated column under the column index you passed.<br>\n",
    "\n",
    " - Example: (column_index, column_name) -> (\"GCC\", \"Machine clears\") "
   ]
  },
  {
   "cell_type": "code",
   "execution_count": null,
   "id": "3e067986",
   "metadata": {
    "execution": {
     "iopub.execute_input": "2024-03-26T22:19:39.509399Z",
     "iopub.status.busy": "2024-03-26T22:19:39.509287Z",
     "iopub.status.idle": "2024-03-26T22:19:39.511291Z",
     "shell.execute_reply": "2024-03-26T22:19:39.511005Z"
    },
    "papermill": {
     "duration": 0.009599,
     "end_time": "2024-03-26T22:19:39.511953",
     "exception": false,
     "start_time": "2024-03-26T22:19:39.502354",
     "status": "completed"
    },
    "tags": []
   },
   "outputs": [],
   "source": [
    "metrics = [(\"Clang\", \"time (exc)\"), (\"GCC\", \"Machine clears\")]"
   ]
  },
  {
   "cell_type": "code",
   "execution_count": null,
   "id": "ea3e8c66",
   "metadata": {
    "execution": {
     "iopub.execute_input": "2024-03-26T22:19:39.525606Z",
     "iopub.status.busy": "2024-03-26T22:19:39.525502Z",
     "iopub.status.idle": "2024-03-26T22:19:39.534219Z",
     "shell.execute_reply": "2024-03-26T22:19:39.533998Z"
    },
    "papermill": {
     "duration": 0.016151,
     "end_time": "2024-03-26T22:19:39.534736",
     "exception": false,
     "start_time": "2024-03-26T22:19:39.518585",
     "status": "completed"
    },
    "tags": []
   },
   "outputs": [],
   "source": [
    "th.mean(combined_th, columns=metrics)\n",
    "combined_th.statsframe.dataframe.head(5)"
   ]
  },
  {
   "cell_type": "markdown",
   "id": "6728822e",
   "metadata": {
    "papermill": {
     "duration": 0.006538,
     "end_time": "2024-03-26T22:19:39.548104",
     "exception": false,
     "start_time": "2024-03-26T22:19:39.541566",
     "status": "completed"
    },
    "tags": []
   },
   "source": [
    "### 5.5 Variance\n",
    "\n",
    "The `variance` function will determine the variance for each node in the performance data table. Variance will allow a user to see the spread of tdata within a node and that nodes associated profiles. <br>\n",
    "\n",
    "The variance value will be appended to the aggregated statistics table and will be denoted with `_var` at the end of column name i.e. `column_var`."
   ]
  },
  {
   "cell_type": "markdown",
   "id": "a29fdccf",
   "metadata": {
    "papermill": {
     "duration": 0.006543,
     "end_time": "2024-03-26T22:19:39.561255",
     "exception": false,
     "start_time": "2024-03-26T22:19:39.554712",
     "status": "completed"
    },
    "tags": []
   },
   "source": [
    "**Single Index Thicket Example**"
   ]
  },
  {
   "cell_type": "code",
   "execution_count": null,
   "id": "31126524",
   "metadata": {
    "execution": {
     "iopub.execute_input": "2024-03-26T22:19:39.574952Z",
     "iopub.status.busy": "2024-03-26T22:19:39.574844Z",
     "iopub.status.idle": "2024-03-26T22:19:39.577351Z",
     "shell.execute_reply": "2024-03-26T22:19:39.577138Z"
    },
    "papermill": {
     "duration": 0.010113,
     "end_time": "2024-03-26T22:19:39.577937",
     "exception": false,
     "start_time": "2024-03-26T22:19:39.567824",
     "status": "completed"
    },
    "tags": []
   },
   "outputs": [],
   "source": [
    "metrics = [\"time (exc)\", \"Machine clears\"]"
   ]
  },
  {
   "cell_type": "code",
   "execution_count": null,
   "id": "b48ae8c9",
   "metadata": {
    "execution": {
     "iopub.execute_input": "2024-03-26T22:19:39.591684Z",
     "iopub.status.busy": "2024-03-26T22:19:39.591587Z",
     "iopub.status.idle": "2024-03-26T22:19:39.599253Z",
     "shell.execute_reply": "2024-03-26T22:19:39.599061Z"
    },
    "papermill": {
     "duration": 0.015255,
     "end_time": "2024-03-26T22:19:39.599823",
     "exception": false,
     "start_time": "2024-03-26T22:19:39.584568",
     "status": "completed"
    },
    "tags": []
   },
   "outputs": [],
   "source": [
    "th.variance(clang_th, columns=metrics)\n",
    "clang_th.statsframe.dataframe.head(5)"
   ]
  },
  {
   "cell_type": "markdown",
   "id": "6abc05b1",
   "metadata": {
    "papermill": {
     "duration": 0.006657,
     "end_time": "2024-03-26T22:19:39.613415",
     "exception": false,
     "start_time": "2024-03-26T22:19:39.606758",
     "status": "completed"
    },
    "tags": []
   },
   "source": [
    "**Multi-Indexed Thicket Example**\n",
    "\n",
    "Example will show how to pass a columnar joined thicket object. When passing a columnar joined thicket object, the columns argument will now take a list of tuples. Each tuple will consist of two elements. The first element will always be the column index, and the second element will be an associated column under the column index you passed.<br>\n",
    "\n",
    " - Example: (column_index, column_name) -> (\"GCC\", \"Machine clears\")  "
   ]
  },
  {
   "cell_type": "code",
   "execution_count": null,
   "id": "47db4ce6",
   "metadata": {
    "execution": {
     "iopub.execute_input": "2024-03-26T22:19:39.626958Z",
     "iopub.status.busy": "2024-03-26T22:19:39.626870Z",
     "iopub.status.idle": "2024-03-26T22:19:39.629293Z",
     "shell.execute_reply": "2024-03-26T22:19:39.629071Z"
    },
    "papermill": {
     "duration": 0.009846,
     "end_time": "2024-03-26T22:19:39.629835",
     "exception": false,
     "start_time": "2024-03-26T22:19:39.619989",
     "status": "completed"
    },
    "tags": []
   },
   "outputs": [],
   "source": [
    "metrics = [(\"Clang\", \"time (exc)\"), (\"GCC\", \"Machine clears\")]"
   ]
  },
  {
   "cell_type": "code",
   "execution_count": null,
   "id": "a50744d5",
   "metadata": {
    "execution": {
     "iopub.execute_input": "2024-03-26T22:19:39.643656Z",
     "iopub.status.busy": "2024-03-26T22:19:39.643561Z",
     "iopub.status.idle": "2024-03-26T22:19:39.653295Z",
     "shell.execute_reply": "2024-03-26T22:19:39.653037Z"
    },
    "papermill": {
     "duration": 0.017439,
     "end_time": "2024-03-26T22:19:39.653905",
     "exception": false,
     "start_time": "2024-03-26T22:19:39.636466",
     "status": "completed"
    },
    "tags": []
   },
   "outputs": [],
   "source": [
    "th.variance(combined_th, columns=metrics)\n",
    "combined_th.statsframe.dataframe.head(5)"
   ]
  },
  {
   "cell_type": "markdown",
   "id": "046c07fc",
   "metadata": {
    "papermill": {
     "duration": 0.00678,
     "end_time": "2024-03-26T22:19:39.667876",
     "exception": false,
     "start_time": "2024-03-26T22:19:39.661096",
     "status": "completed"
    },
    "tags": []
   },
   "source": [
    "### 5.6 Standard Deviation\n",
    "\n",
    "The `std` function will determine the standard deviation for each node in the performance data table. Standard deviation describes how dispersed the data is in relation to the mean. <br>\n",
    "\n",
    "The standard deviation value will be appended to the aggregated statistics table and will be denoted with `_std` at the end of column name i.e. `column_std`."
   ]
  },
  {
   "cell_type": "markdown",
   "id": "d38d9667",
   "metadata": {
    "papermill": {
     "duration": 0.006853,
     "end_time": "2024-03-26T22:19:39.681618",
     "exception": false,
     "start_time": "2024-03-26T22:19:39.674765",
     "status": "completed"
    },
    "tags": []
   },
   "source": [
    "**Single Index Thicket Example**"
   ]
  },
  {
   "cell_type": "code",
   "execution_count": null,
   "id": "8313149b",
   "metadata": {
    "execution": {
     "iopub.execute_input": "2024-03-26T22:19:39.696011Z",
     "iopub.status.busy": "2024-03-26T22:19:39.695881Z",
     "iopub.status.idle": "2024-03-26T22:19:39.698372Z",
     "shell.execute_reply": "2024-03-26T22:19:39.698107Z"
    },
    "papermill": {
     "duration": 0.01047,
     "end_time": "2024-03-26T22:19:39.698954",
     "exception": false,
     "start_time": "2024-03-26T22:19:39.688484",
     "status": "completed"
    },
    "tags": []
   },
   "outputs": [],
   "source": [
    "metrics = [\"time (exc)\", \"Machine clears\"]"
   ]
  },
  {
   "cell_type": "code",
   "execution_count": null,
   "id": "38dd48da",
   "metadata": {
    "execution": {
     "iopub.execute_input": "2024-03-26T22:19:39.713457Z",
     "iopub.status.busy": "2024-03-26T22:19:39.713352Z",
     "iopub.status.idle": "2024-03-26T22:19:39.721314Z",
     "shell.execute_reply": "2024-03-26T22:19:39.721070Z"
    },
    "papermill": {
     "duration": 0.015986,
     "end_time": "2024-03-26T22:19:39.721902",
     "exception": false,
     "start_time": "2024-03-26T22:19:39.705916",
     "status": "completed"
    },
    "tags": []
   },
   "outputs": [],
   "source": [
    "th.std(clang_th, columns=metrics)\n",
    "clang_th.statsframe.dataframe.head(5)"
   ]
  },
  {
   "cell_type": "markdown",
   "id": "279b893a",
   "metadata": {
    "papermill": {
     "duration": 0.007029,
     "end_time": "2024-03-26T22:19:39.736321",
     "exception": false,
     "start_time": "2024-03-26T22:19:39.729292",
     "status": "completed"
    },
    "tags": []
   },
   "source": [
    "**Multi-Indexed Thicket Example**\n",
    "\n",
    "Example will show how to pass a columnar joined thicket object. When passing a columnar joined thicket object, the columns argument will now take a list of tuples. Each tuple will consist of two elements. The first element will always be the column index, and the second element will be an associated column under the column index you passed.<br>\n",
    "\n",
    " - Example: (column_index, column_name) -> (\"GCC\", \"Machine clears\")   "
   ]
  },
  {
   "cell_type": "code",
   "execution_count": null,
   "id": "eac489b3",
   "metadata": {
    "execution": {
     "iopub.execute_input": "2024-03-26T22:19:39.750961Z",
     "iopub.status.busy": "2024-03-26T22:19:39.750846Z",
     "iopub.status.idle": "2024-03-26T22:19:39.753269Z",
     "shell.execute_reply": "2024-03-26T22:19:39.753074Z"
    },
    "papermill": {
     "duration": 0.010443,
     "end_time": "2024-03-26T22:19:39.753860",
     "exception": false,
     "start_time": "2024-03-26T22:19:39.743417",
     "status": "completed"
    },
    "tags": []
   },
   "outputs": [],
   "source": [
    "metrics = [(\"Clang\", \"time (exc)\"), (\"GCC\", \"Machine clears\")]"
   ]
  },
  {
   "cell_type": "code",
   "execution_count": null,
   "id": "c81c22f5",
   "metadata": {
    "execution": {
     "iopub.execute_input": "2024-03-26T22:19:39.768787Z",
     "iopub.status.busy": "2024-03-26T22:19:39.768683Z",
     "iopub.status.idle": "2024-03-26T22:19:39.779474Z",
     "shell.execute_reply": "2024-03-26T22:19:39.779215Z"
    },
    "papermill": {
     "duration": 0.019201,
     "end_time": "2024-03-26T22:19:39.780024",
     "exception": false,
     "start_time": "2024-03-26T22:19:39.760823",
     "status": "completed"
    },
    "tags": []
   },
   "outputs": [],
   "source": [
    "th.std(combined_th, columns=metrics)\n",
    "combined_th.statsframe.dataframe.head(5)"
   ]
  },
  {
   "cell_type": "markdown",
   "id": "7be8def4",
   "metadata": {
    "papermill": {
     "duration": 0.00717,
     "end_time": "2024-03-26T22:19:39.794750",
     "exception": false,
     "start_time": "2024-03-26T22:19:39.787580",
     "status": "completed"
    },
    "tags": []
   },
   "source": [
    "### 5.7 Percentiles\n",
    "\n",
    "The `percentiles` function will determine the q-th percentiles for each node in the performance data table. <br>\n",
    "\n",
    " - The 25th percentile is the lower quartile, and is the value at which 25% of the answers lie below that value.\n",
    " - The 50th percentile is the median and half othe values lie below the median and half lie above the median.\n",
    " - The 75th percentile is the upper quartiles, and is the value at which 25% of the answers lie above that value and 75% of the answer lie below that value.\n",
    "\n",
    "The calculated percentiles will be appended to the aggregated statistics table and will be denoted with `_percentiles` at the end of column name i.e. `column_percentiles`."
   ]
  },
  {
   "cell_type": "markdown",
   "id": "847f2044",
   "metadata": {
    "papermill": {
     "duration": 0.007182,
     "end_time": "2024-03-26T22:19:39.809158",
     "exception": false,
     "start_time": "2024-03-26T22:19:39.801976",
     "status": "completed"
    },
    "tags": []
   },
   "source": [
    "**Single Index Thicket Example**"
   ]
  },
  {
   "cell_type": "code",
   "execution_count": null,
   "id": "8c376619",
   "metadata": {
    "execution": {
     "iopub.execute_input": "2024-03-26T22:19:39.824693Z",
     "iopub.status.busy": "2024-03-26T22:19:39.824573Z",
     "iopub.status.idle": "2024-03-26T22:19:39.827471Z",
     "shell.execute_reply": "2024-03-26T22:19:39.827191Z"
    },
    "papermill": {
     "duration": 0.011762,
     "end_time": "2024-03-26T22:19:39.828079",
     "exception": false,
     "start_time": "2024-03-26T22:19:39.816317",
     "status": "completed"
    },
    "tags": []
   },
   "outputs": [],
   "source": [
    "metrics = [\"time (exc)\", \"Machine clears\"]"
   ]
  },
  {
   "cell_type": "code",
   "execution_count": null,
   "id": "b5f63443",
   "metadata": {
    "execution": {
     "iopub.execute_input": "2024-03-26T22:19:39.842841Z",
     "iopub.status.busy": "2024-03-26T22:19:39.842746Z",
     "iopub.status.idle": "2024-03-26T22:19:39.866294Z",
     "shell.execute_reply": "2024-03-26T22:19:39.866031Z"
    },
    "papermill": {
     "duration": 0.031554,
     "end_time": "2024-03-26T22:19:39.866836",
     "exception": false,
     "start_time": "2024-03-26T22:19:39.835282",
     "status": "completed"
    },
    "tags": []
   },
   "outputs": [],
   "source": [
    "th.percentiles(clang_th, columns=metrics)\n",
    "clang_th.statsframe.dataframe.head(5)"
   ]
  },
  {
   "cell_type": "markdown",
   "id": "ca5a832d",
   "metadata": {
    "papermill": {
     "duration": 0.007344,
     "end_time": "2024-03-26T22:19:39.881611",
     "exception": false,
     "start_time": "2024-03-26T22:19:39.874267",
     "status": "completed"
    },
    "tags": []
   },
   "source": [
    "**Multi-Indexed Thicket Example**\n",
    "Example will show how to pass a columnar joined thicket object. When passing a columnar joined thicket object, the columns argument will now take a list of tuples. Each tuple will consist of two elements. The first element will always be the column index, and the second element will be an associated column under the column index you passed.<br>\n",
    "\n",
    " - Example: (column_index, column_name) -> (\"GCC\", \"Machine clears\")"
   ]
  },
  {
   "cell_type": "code",
   "execution_count": null,
   "id": "cd3bef9b",
   "metadata": {
    "execution": {
     "iopub.execute_input": "2024-03-26T22:19:39.897009Z",
     "iopub.status.busy": "2024-03-26T22:19:39.896897Z",
     "iopub.status.idle": "2024-03-26T22:19:39.899361Z",
     "shell.execute_reply": "2024-03-26T22:19:39.899113Z"
    },
    "papermill": {
     "duration": 0.010902,
     "end_time": "2024-03-26T22:19:39.899952",
     "exception": false,
     "start_time": "2024-03-26T22:19:39.889050",
     "status": "completed"
    },
    "tags": []
   },
   "outputs": [],
   "source": [
    "metrics = [(\"Clang\", \"time (exc)\"), (\"GCC\", \"Machine clears\")]"
   ]
  },
  {
   "cell_type": "code",
   "execution_count": null,
   "id": "36429124",
   "metadata": {
    "execution": {
     "iopub.execute_input": "2024-03-26T22:19:39.915602Z",
     "iopub.status.busy": "2024-03-26T22:19:39.915500Z",
     "iopub.status.idle": "2024-03-26T22:19:39.946334Z",
     "shell.execute_reply": "2024-03-26T22:19:39.945981Z"
    },
    "papermill": {
     "duration": 0.03953,
     "end_time": "2024-03-26T22:19:39.946911",
     "exception": false,
     "start_time": "2024-03-26T22:19:39.907381",
     "status": "completed"
    },
    "tags": []
   },
   "outputs": [],
   "source": [
    "th.percentiles(combined_th, columns=metrics)\n",
    "combined_th.statsframe.dataframe.head(5)"
   ]
  },
  {
   "cell_type": "markdown",
   "id": "98e93d70",
   "metadata": {
    "papermill": {
     "duration": 0.007714,
     "end_time": "2024-03-26T22:19:39.963333",
     "exception": false,
     "start_time": "2024-03-26T22:19:39.955619",
     "status": "completed"
    },
    "tags": []
   },
   "source": [
    "### 5.8 Check Normality\n",
    "\n",
    "The `check_normality` function will determine if the data is normal or non-normal for each node in the performance data table. For this test, the more data the better. Perferably you would want to have 20 data points (20 files) in a dataset to have an accurate result. <br>\n",
    "\n",
    "A `True` boolean will be appended to the aggregated statistics table if the data is normal and a `False` boolean will be appended to the aggregated statistics table if the data is non-normal. The appended column will be denoted with `_normality` at the end of column name i.e. `column_normality`."
   ]
  },
  {
   "cell_type": "markdown",
   "id": "7edc2b52",
   "metadata": {
    "papermill": {
     "duration": 0.007702,
     "end_time": "2024-03-26T22:19:39.978818",
     "exception": false,
     "start_time": "2024-03-26T22:19:39.971116",
     "status": "completed"
    },
    "tags": []
   },
   "source": [
    "**Single Index Thicket Example**"
   ]
  },
  {
   "cell_type": "code",
   "execution_count": null,
   "id": "b06eab79",
   "metadata": {
    "execution": {
     "iopub.execute_input": "2024-03-26T22:19:39.994586Z",
     "iopub.status.busy": "2024-03-26T22:19:39.994465Z",
     "iopub.status.idle": "2024-03-26T22:19:39.997267Z",
     "shell.execute_reply": "2024-03-26T22:19:39.996896Z"
    },
    "papermill": {
     "duration": 0.011453,
     "end_time": "2024-03-26T22:19:39.997885",
     "exception": false,
     "start_time": "2024-03-26T22:19:39.986432",
     "status": "completed"
    },
    "tags": []
   },
   "outputs": [],
   "source": [
    "metrics = [\"time (exc)\", \"Machine clears\"]"
   ]
  },
  {
   "cell_type": "code",
   "execution_count": null,
   "id": "84b2fd2c",
   "metadata": {
    "execution": {
     "iopub.execute_input": "2024-03-26T22:19:40.013762Z",
     "iopub.status.busy": "2024-03-26T22:19:40.013651Z",
     "iopub.status.idle": "2024-03-26T22:19:40.072527Z",
     "shell.execute_reply": "2024-03-26T22:19:40.072201Z"
    },
    "papermill": {
     "duration": 0.067543,
     "end_time": "2024-03-26T22:19:40.073126",
     "exception": false,
     "start_time": "2024-03-26T22:19:40.005583",
     "status": "completed"
    },
    "tags": []
   },
   "outputs": [],
   "source": [
    "th.check_normality(clang_th, columns=metrics)\n",
    "clang_th.statsframe.dataframe.head(5)"
   ]
  },
  {
   "cell_type": "markdown",
   "id": "92706ae5",
   "metadata": {
    "papermill": {
     "duration": 0.00816,
     "end_time": "2024-03-26T22:19:40.089814",
     "exception": false,
     "start_time": "2024-03-26T22:19:40.081654",
     "status": "completed"
    },
    "tags": []
   },
   "source": [
    "**Multi-Indexed Thicket Example**\n",
    "Example will show how to pass a columnar joined thicket object. When passing a columnar joined thicket object, the columns argument will now take a list of tuples. Each tuple will consist of two elements. The first element will always be the column index, and the second element will be an associated column under the column index you passed.<br>\n",
    "\n",
    " - Example: (column_index, column_name) -> (\"GCC\", \"Machine clears\")"
   ]
  },
  {
   "cell_type": "code",
   "execution_count": null,
   "id": "6693287f",
   "metadata": {
    "execution": {
     "iopub.execute_input": "2024-03-26T22:19:40.106447Z",
     "iopub.status.busy": "2024-03-26T22:19:40.106348Z",
     "iopub.status.idle": "2024-03-26T22:19:40.108245Z",
     "shell.execute_reply": "2024-03-26T22:19:40.108005Z"
    },
    "papermill": {
     "duration": 0.010861,
     "end_time": "2024-03-26T22:19:40.108821",
     "exception": false,
     "start_time": "2024-03-26T22:19:40.097960",
     "status": "completed"
    },
    "tags": []
   },
   "outputs": [],
   "source": [
    "metrics = [(\"Clang\", \"time (exc)\"), (\"GCC\", \"Machine clears\")]"
   ]
  },
  {
   "cell_type": "code",
   "execution_count": null,
   "id": "cc79039d",
   "metadata": {
    "execution": {
     "iopub.execute_input": "2024-03-26T22:19:40.125928Z",
     "iopub.status.busy": "2024-03-26T22:19:40.125828Z",
     "iopub.status.idle": "2024-03-26T22:19:40.251772Z",
     "shell.execute_reply": "2024-03-26T22:19:40.250736Z"
    },
    "papermill": {
     "duration": 0.13533,
     "end_time": "2024-03-26T22:19:40.252444",
     "exception": false,
     "start_time": "2024-03-26T22:19:40.117114",
     "status": "completed"
    },
    "tags": []
   },
   "outputs": [],
   "source": [
    "th.check_normality(combined_th, columns=metrics)\n",
    "combined_th.statsframe.dataframe.head(5)"
   ]
  },
  {
   "cell_type": "markdown",
   "id": "d9032df3",
   "metadata": {
    "papermill": {
     "duration": 0.009662,
     "end_time": "2024-03-26T22:19:40.271412",
     "exception": false,
     "start_time": "2024-03-26T22:19:40.261750",
     "status": "completed"
    },
    "tags": []
   },
   "source": [
    "### 5.9 Nodewise Correlation\n",
    "\n",
    "The `correlation_nodewise` function will perform nodewise correlation for each node in the performance data table. <br>\n",
    "\n",
    "The correlation values will be appended to the aggregated statistics table and will be denoted with `correlation type` where `correlation type` can be `{pearson, spearman, kendall}`. <br>\n",
    "\n",
    "When working with a multi-indexed thicket (columnar join) a new column index will be created titled: `Union statistics`. See the **Multi-Indexed Thicket Example** to see the implementation of this."
   ]
  },
  {
   "cell_type": "markdown",
   "id": "eff71db6",
   "metadata": {
    "papermill": {
     "duration": 0.009119,
     "end_time": "2024-03-26T22:19:40.289839",
     "exception": false,
     "start_time": "2024-03-26T22:19:40.280720",
     "status": "completed"
    },
    "tags": []
   },
   "source": [
    "**Single Index Thicket Example**"
   ]
  },
  {
   "cell_type": "code",
   "execution_count": null,
   "id": "93b34d22",
   "metadata": {
    "execution": {
     "iopub.execute_input": "2024-03-26T22:19:40.308701Z",
     "iopub.status.busy": "2024-03-26T22:19:40.308581Z",
     "iopub.status.idle": "2024-03-26T22:19:40.333335Z",
     "shell.execute_reply": "2024-03-26T22:19:40.333050Z"
    },
    "papermill": {
     "duration": 0.035019,
     "end_time": "2024-03-26T22:19:40.333982",
     "exception": false,
     "start_time": "2024-03-26T22:19:40.298963",
     "status": "completed"
    },
    "tags": []
   },
   "outputs": [],
   "source": [
    "th.correlation_nodewise(clang_th, column1=\"time (exc)\", column2=\"Machine clears\", correlation=\"spearman\")"
   ]
  },
  {
   "cell_type": "code",
   "execution_count": null,
   "id": "a18d0979",
   "metadata": {
    "execution": {
     "iopub.execute_input": "2024-03-26T22:19:40.352348Z",
     "iopub.status.busy": "2024-03-26T22:19:40.352261Z",
     "iopub.status.idle": "2024-03-26T22:19:40.360419Z",
     "shell.execute_reply": "2024-03-26T22:19:40.360147Z"
    },
    "papermill": {
     "duration": 0.017798,
     "end_time": "2024-03-26T22:19:40.360991",
     "exception": false,
     "start_time": "2024-03-26T22:19:40.343193",
     "status": "completed"
    },
    "tags": []
   },
   "outputs": [],
   "source": [
    "clang_th.statsframe.dataframe.head(5)"
   ]
  },
  {
   "cell_type": "markdown",
   "id": "927d0a84",
   "metadata": {
    "papermill": {
     "duration": 0.009231,
     "end_time": "2024-03-26T22:19:40.379635",
     "exception": false,
     "start_time": "2024-03-26T22:19:40.370404",
     "status": "completed"
    },
    "tags": []
   },
   "source": [
    "**Multi-Indexed Thicket Example**\n",
    "\n",
    "Example will show how to pass a columnar joined thicket object. When passing a columnar joined thicket object, the columns argument will now take a list of tuples. Each tuple will consist of two elements. The first element will always be the column index, and the second element will be an associated column under the column index you passed.<br>\n",
    "\n",
    " - Example: (column_index, column_name) -> (\"GCC\", \"Machine clears\") "
   ]
  },
  {
   "cell_type": "code",
   "execution_count": null,
   "id": "2775f0f3",
   "metadata": {
    "execution": {
     "iopub.execute_input": "2024-03-26T22:19:40.398689Z",
     "iopub.status.busy": "2024-03-26T22:19:40.398570Z",
     "iopub.status.idle": "2024-03-26T22:19:40.429367Z",
     "shell.execute_reply": "2024-03-26T22:19:40.429021Z"
    },
    "papermill": {
     "duration": 0.041243,
     "end_time": "2024-03-26T22:19:40.430130",
     "exception": false,
     "start_time": "2024-03-26T22:19:40.388887",
     "status": "completed"
    },
    "tags": []
   },
   "outputs": [],
   "source": [
    "th.correlation_nodewise(combined_th, column1=(\"Clang\", \"time (exc)\"), column2=(\"GCC\", \"Machine clears\"), correlation=\"spearman\")"
   ]
  },
  {
   "cell_type": "code",
   "execution_count": null,
   "id": "1e0de9d1",
   "metadata": {
    "execution": {
     "iopub.execute_input": "2024-03-26T22:19:40.449978Z",
     "iopub.status.busy": "2024-03-26T22:19:40.449863Z",
     "iopub.status.idle": "2024-03-26T22:19:40.459377Z",
     "shell.execute_reply": "2024-03-26T22:19:40.459044Z"
    },
    "papermill": {
     "duration": 0.020052,
     "end_time": "2024-03-26T22:19:40.460037",
     "exception": false,
     "start_time": "2024-03-26T22:19:40.439985",
     "status": "completed"
    },
    "tags": []
   },
   "outputs": [],
   "source": [
    "combined_th.statsframe.dataframe.head(5)"
   ]
  },
  {
   "cell_type": "markdown",
   "id": "f0de497c",
   "metadata": {
    "papermill": {
     "duration": 0.009987,
     "end_time": "2024-03-26T22:19:40.479424",
     "exception": false,
     "start_time": "2024-03-26T22:19:40.469437",
     "status": "completed"
    },
    "tags": []
   },
   "source": [
    "### 5.10 Calculate Boxplot\n",
    "\n",
    "The `calc_boxplot_statistics` function will calculate a boxplots `{q1, q2, q3, iqr, lowerfence, upperfence}` for each node in the performance data table. <br>\n",
    "\n",
    "Each column will have the values: `{q1,q2,q3,iqr,lowerfence, upperfence}` calculated. The appended columns to the aggregated statistics table will be denoted with either col + `{_q1, _q2, _q3,_iqr, _lowerfence, _upperfence}`. <br>\n",
    "\n",
    "Lastly, `calc_boxplot_statistics` will calculate outliers as well. The outliers will be appended to the aggregated statistics table and denoted with `_outliers` at the end of the column name i.e. `column_outliers`."
   ]
  },
  {
   "cell_type": "markdown",
   "id": "e41b81c5",
   "metadata": {
    "papermill": {
     "duration": 0.009446,
     "end_time": "2024-03-26T22:19:40.498339",
     "exception": false,
     "start_time": "2024-03-26T22:19:40.488893",
     "status": "completed"
    },
    "tags": []
   },
   "source": [
    "**Single Indexed Thicket**"
   ]
  },
  {
   "cell_type": "code",
   "execution_count": null,
   "id": "14f0406c",
   "metadata": {
    "execution": {
     "iopub.execute_input": "2024-03-26T22:19:40.517707Z",
     "iopub.status.busy": "2024-03-26T22:19:40.517581Z",
     "iopub.status.idle": "2024-03-26T22:19:40.520440Z",
     "shell.execute_reply": "2024-03-26T22:19:40.520157Z"
    },
    "papermill": {
     "duration": 0.013289,
     "end_time": "2024-03-26T22:19:40.521039",
     "exception": false,
     "start_time": "2024-03-26T22:19:40.507750",
     "status": "completed"
    },
    "tags": []
   },
   "outputs": [],
   "source": [
    "metrics = [\"time (exc)\", \"Machine clears\"]"
   ]
  },
  {
   "cell_type": "code",
   "execution_count": null,
   "id": "c45ed4ba",
   "metadata": {
    "execution": {
     "iopub.execute_input": "2024-03-26T22:19:40.540286Z",
     "iopub.status.busy": "2024-03-26T22:19:40.540183Z",
     "iopub.status.idle": "2024-03-26T22:19:40.588548Z",
     "shell.execute_reply": "2024-03-26T22:19:40.588233Z"
    },
    "papermill": {
     "duration": 0.058587,
     "end_time": "2024-03-26T22:19:40.589145",
     "exception": false,
     "start_time": "2024-03-26T22:19:40.530558",
     "status": "completed"
    },
    "tags": []
   },
   "outputs": [],
   "source": [
    "th.calc_boxplot_statistics(clang_th, columns=metrics)\n",
    "clang_th.statsframe.dataframe.head(5)"
   ]
  },
  {
   "cell_type": "markdown",
   "id": "1c7f08c2",
   "metadata": {
    "papermill": {
     "duration": 0.010003,
     "end_time": "2024-03-26T22:19:40.609248",
     "exception": false,
     "start_time": "2024-03-26T22:19:40.599245",
     "status": "completed"
    },
    "tags": []
   },
   "source": [
    "**Multi-indexed Thicket**\n",
    "\n",
    "Example will show how to pass a columnar joined thicket object. When passing a columnar joined thicket object, the columns argument will now take a list of tuples. Each tuple will consist of two elements. The first element will always be the column index, and the second element will be an associated column under the column index you passed.<br>\n",
    "\n",
    " - Example: (column_index, column_name) -> (\"GCC\", \"Machine clears\")"
   ]
  },
  {
   "cell_type": "code",
   "execution_count": null,
   "id": "74782f37",
   "metadata": {
    "execution": {
     "iopub.execute_input": "2024-03-26T22:19:40.629939Z",
     "iopub.status.busy": "2024-03-26T22:19:40.629795Z",
     "iopub.status.idle": "2024-03-26T22:19:40.632371Z",
     "shell.execute_reply": "2024-03-26T22:19:40.632101Z"
    },
    "papermill": {
     "duration": 0.013661,
     "end_time": "2024-03-26T22:19:40.632936",
     "exception": false,
     "start_time": "2024-03-26T22:19:40.619275",
     "status": "completed"
    },
    "tags": []
   },
   "outputs": [],
   "source": [
    "metrics = [(\"Clang\", \"time (exc)\"), (\"GCC\", \"Machine clears\")]"
   ]
  },
  {
   "cell_type": "code",
   "execution_count": null,
   "id": "363b1bb8",
   "metadata": {
    "execution": {
     "iopub.execute_input": "2024-03-26T22:19:40.653111Z",
     "iopub.status.busy": "2024-03-26T22:19:40.652997Z",
     "iopub.status.idle": "2024-03-26T22:19:40.714330Z",
     "shell.execute_reply": "2024-03-26T22:19:40.714023Z"
    },
    "papermill": {
     "duration": 0.072142,
     "end_time": "2024-03-26T22:19:40.714970",
     "exception": false,
     "start_time": "2024-03-26T22:19:40.642828",
     "status": "completed"
    },
    "tags": []
   },
   "outputs": [],
   "source": [
    "th.calc_boxplot_statistics(combined_th, columns=metrics)\n",
    "combined_th.statsframe.dataframe.head(5)"
   ]
  },
  {
   "cell_type": "markdown",
   "id": "be2704b4",
   "metadata": {
    "papermill": {
     "duration": 0.009734,
     "end_time": "2024-03-26T22:19:40.734882",
     "exception": false,
     "start_time": "2024-03-26T22:19:40.725148",
     "status": "completed"
    },
    "tags": []
   },
   "source": [
    "## 6. Visualization Thicket Functions"
   ]
  },
  {
   "cell_type": "markdown",
   "id": "48ce9f45",
   "metadata": {
    "papermill": {
     "duration": 0.009854,
     "end_time": "2024-03-26T22:19:40.754726",
     "exception": false,
     "start_time": "2024-03-26T22:19:40.744872",
     "status": "completed"
    },
    "tags": []
   },
   "source": [
    "### 6.1 Displaying Heatmap\n",
    "\n",
    "The `display_heatmap` function will display a color encoded map with the color representing the magnitude of the value for that specific node and column cell. <br>\n",
    "\n",
    "Columns must be from the aggregated statistics table."
   ]
  },
  {
   "cell_type": "markdown",
   "id": "557687f5",
   "metadata": {
    "papermill": {
     "duration": 0.009756,
     "end_time": "2024-03-26T22:19:40.774103",
     "exception": false,
     "start_time": "2024-03-26T22:19:40.764347",
     "status": "completed"
    },
    "tags": []
   },
   "source": [
    "**Single Index Thicket Example**"
   ]
  },
  {
   "cell_type": "code",
   "execution_count": null,
   "id": "3d624af5",
   "metadata": {
    "execution": {
     "iopub.execute_input": "2024-03-26T22:19:40.793965Z",
     "iopub.status.busy": "2024-03-26T22:19:40.793856Z",
     "iopub.status.idle": "2024-03-26T22:19:40.865366Z",
     "shell.execute_reply": "2024-03-26T22:19:40.865097Z"
    },
    "papermill": {
     "duration": 0.082311,
     "end_time": "2024-03-26T22:19:40.865951",
     "exception": false,
     "start_time": "2024-03-26T22:19:40.783640",
     "status": "completed"
    },
    "tags": []
   },
   "outputs": [],
   "source": [
    "# filter nodes to first five entries in the aggregated statistics table\n",
    "stats_nodes = [\n",
    "    \"RAJAPerf\", \n",
    "    \"Algorithm\", \n",
    "    \"Algorithm_MEMCPY\", \n",
    "    \"Algorithm_MEMSET\", \n",
    "    \"Algorithm_REDUCE_SUM\"\n",
    "]\n",
    "th_stats_name = clang_th.filter_stats(lambda x: x[\"name\"] in stats_nodes)"
   ]
  },
  {
   "cell_type": "code",
   "execution_count": null,
   "id": "be3ae0ad",
   "metadata": {
    "execution": {
     "iopub.execute_input": "2024-03-26T22:19:40.885880Z",
     "iopub.status.busy": "2024-03-26T22:19:40.885769Z",
     "iopub.status.idle": "2024-03-26T22:19:40.998250Z",
     "shell.execute_reply": "2024-03-26T22:19:40.998047Z"
    },
    "papermill": {
     "duration": 0.123061,
     "end_time": "2024-03-26T22:19:40.998827",
     "exception": false,
     "start_time": "2024-03-26T22:19:40.875766",
     "status": "completed"
    },
    "tags": []
   },
   "outputs": [],
   "source": [
    "plt.figure(figsize=(30, 30))\n",
    "metrics = [\"time (exc)_std\", \"time (exc)_var\"]\n",
    "th.display_heatmap(th_stats_name, columns=metrics)"
   ]
  },
  {
   "cell_type": "markdown",
   "id": "7e27bc97",
   "metadata": {
    "papermill": {
     "duration": 0.010369,
     "end_time": "2024-03-26T22:19:41.019867",
     "exception": false,
     "start_time": "2024-03-26T22:19:41.009498",
     "status": "completed"
    },
    "tags": []
   },
   "source": [
    "**Multi-Indexed Thicket Example**\n",
    "\n",
    "Example will show how to pass a columnar joined thicket object. When passing a columnar joined thicket object, the columns argument will now take a list of tuples. Each tuple will consist of two elements. The first element will always be the column index, and the second element will be an associated column under the column index you passed.<br>\n",
    "\n",
    " - Example: (column_index, column_name) -> (\"GCC\", \"Machine clears\")"
   ]
  },
  {
   "cell_type": "code",
   "execution_count": null,
   "id": "d1a71861",
   "metadata": {
    "execution": {
     "iopub.execute_input": "2024-03-26T22:19:41.041497Z",
     "iopub.status.busy": "2024-03-26T22:19:41.041372Z",
     "iopub.status.idle": "2024-03-26T22:19:41.424547Z",
     "shell.execute_reply": "2024-03-26T22:19:41.424181Z"
    },
    "papermill": {
     "duration": 0.395104,
     "end_time": "2024-03-26T22:19:41.425236",
     "exception": false,
     "start_time": "2024-03-26T22:19:41.030132",
     "status": "completed"
    },
    "tags": []
   },
   "outputs": [],
   "source": [
    "plt.figure(figsize=(30, 30))\n",
    "metrics = [(\"Clang\", \"time (exc)_std\"), (\"Clang\", \"time (exc)_var\")]\n",
    "th.display_heatmap(combined_th, columns=metrics)"
   ]
  },
  {
   "cell_type": "markdown",
   "id": "3fa68403",
   "metadata": {
    "papermill": {
     "duration": 0.012242,
     "end_time": "2024-03-26T22:19:41.450457",
     "exception": false,
     "start_time": "2024-03-26T22:19:41.438215",
     "status": "completed"
    },
    "tags": []
   },
   "source": [
    "**Example of Not Passing the Same Column Index for Multi-Indexed Thicket**"
   ]
  },
  {
   "cell_type": "code",
   "execution_count": null,
   "id": "330c37f0",
   "metadata": {
    "execution": {
     "iopub.execute_input": "2024-03-26T22:19:41.475693Z",
     "iopub.status.busy": "2024-03-26T22:19:41.475587Z",
     "iopub.status.idle": "2024-03-26T22:19:41.478451Z",
     "shell.execute_reply": "2024-03-26T22:19:41.478224Z"
    },
    "papermill": {
     "duration": 0.016169,
     "end_time": "2024-03-26T22:19:41.478997",
     "exception": false,
     "start_time": "2024-03-26T22:19:41.462828",
     "status": "completed"
    },
    "tags": []
   },
   "outputs": [],
   "source": [
    "#metrics = [(\"Clang\", \"time (exc)_std\"), (\"GCC\", \"Machine clears_var\")]\n",
    "#th.display_heatmap(combined_th, columns=metrics)"
   ]
  },
  {
   "cell_type": "markdown",
   "id": "0239b646",
   "metadata": {
    "papermill": {
     "duration": 0.012565,
     "end_time": "2024-03-26T22:19:41.504221",
     "exception": false,
     "start_time": "2024-03-26T22:19:41.491656",
     "status": "completed"
    },
    "tags": []
   },
   "source": [
    "### 6.2 Displaying Histogram\n",
    "\n",
    "The `display_histogram` function will display a histogram for a user passed node and columns. Node and column must come from the performance data table. <br>\n",
    "\n",
    "A histogram allows for a user to see outliers and the overall distribution of their data."
   ]
  },
  {
   "cell_type": "code",
   "execution_count": null,
   "id": "e705c8a7",
   "metadata": {
    "execution": {
     "iopub.execute_input": "2024-03-26T22:19:41.529846Z",
     "iopub.status.busy": "2024-03-26T22:19:41.529742Z",
     "iopub.status.idle": "2024-03-26T22:19:41.533559Z",
     "shell.execute_reply": "2024-03-26T22:19:41.533339Z"
    },
    "papermill": {
     "duration": 0.017139,
     "end_time": "2024-03-26T22:19:41.534109",
     "exception": false,
     "start_time": "2024-03-26T22:19:41.516970",
     "status": "completed"
    },
    "tags": []
   },
   "outputs": [],
   "source": [
    "# Getting nodes to pass\n",
    "n = pd.unique(combined_th.dataframe.reset_index()[\"node\"])[4]"
   ]
  },
  {
   "cell_type": "markdown",
   "id": "bc89da43",
   "metadata": {
    "papermill": {
     "duration": 0.012194,
     "end_time": "2024-03-26T22:19:41.558771",
     "exception": false,
     "start_time": "2024-03-26T22:19:41.546577",
     "status": "completed"
    },
    "tags": []
   },
   "source": [
    "**Single Index Thicket Example**"
   ]
  },
  {
   "cell_type": "code",
   "execution_count": null,
   "id": "2deabc3b",
   "metadata": {
    "execution": {
     "iopub.execute_input": "2024-03-26T22:19:41.584216Z",
     "iopub.status.busy": "2024-03-26T22:19:41.584105Z",
     "iopub.status.idle": "2024-03-26T22:19:41.649796Z",
     "shell.execute_reply": "2024-03-26T22:19:41.649474Z"
    },
    "papermill": {
     "duration": 0.07893,
     "end_time": "2024-03-26T22:19:41.650412",
     "exception": false,
     "start_time": "2024-03-26T22:19:41.571482",
     "status": "completed"
    },
    "tags": []
   },
   "outputs": [],
   "source": [
    "plt.figure(figsize=(30, 30))\n",
    "th.display_histogram(clang_th, node=n, column=\"Machine clears\")"
   ]
  },
  {
   "cell_type": "markdown",
   "id": "cb657ba2",
   "metadata": {
    "papermill": {
     "duration": 0.012904,
     "end_time": "2024-03-26T22:19:41.676289",
     "exception": false,
     "start_time": "2024-03-26T22:19:41.663385",
     "status": "completed"
    },
    "tags": []
   },
   "source": [
    "**Multi-Indexed Thicket Example**\n",
    "\n",
    "Example will show how to pass a columnar joined thicket object. When passing a columnar joined thicket object, the columns argument will now take a list of tuples. Each tuple will consist of two elements. The first element will always be the column index, and the second element will be an associated column under the column index you passed.<br>\n",
    "\n",
    " - Example: (column_index, column_name) -> (\"GCC\", \"Machine clears\")"
   ]
  },
  {
   "cell_type": "code",
   "execution_count": null,
   "id": "94fb6edb",
   "metadata": {
    "execution": {
     "iopub.execute_input": "2024-03-26T22:19:41.701933Z",
     "iopub.status.busy": "2024-03-26T22:19:41.701821Z",
     "iopub.status.idle": "2024-03-26T22:19:41.798817Z",
     "shell.execute_reply": "2024-03-26T22:19:41.798460Z"
    },
    "papermill": {
     "duration": 0.110522,
     "end_time": "2024-03-26T22:19:41.799487",
     "exception": false,
     "start_time": "2024-03-26T22:19:41.688965",
     "status": "completed"
    },
    "tags": []
   },
   "outputs": [],
   "source": [
    "plt.figure(figsize=(30, 30))\n",
    "th.display_histogram(combined_th, node=n, column=(\"Clang\", \"Machine clears\"))"
   ]
  },
  {
   "cell_type": "markdown",
   "id": "8d7211b3",
   "metadata": {
    "papermill": {
     "duration": 0.013018,
     "end_time": "2024-03-26T22:19:41.825953",
     "exception": false,
     "start_time": "2024-03-26T22:19:41.812935",
     "status": "completed"
    },
    "tags": []
   },
   "source": [
    "**Example of Error if Not Passing a Hatchet Node**"
   ]
  },
  {
   "cell_type": "code",
   "execution_count": null,
   "id": "97beae7f",
   "metadata": {
    "execution": {
     "iopub.execute_input": "2024-03-26T22:19:41.852184Z",
     "iopub.status.busy": "2024-03-26T22:19:41.852078Z",
     "iopub.status.idle": "2024-03-26T22:19:41.854613Z",
     "shell.execute_reply": "2024-03-26T22:19:41.854426Z"
    },
    "papermill": {
     "duration": 0.015978,
     "end_time": "2024-03-26T22:19:41.855116",
     "exception": false,
     "start_time": "2024-03-26T22:19:41.839138",
     "status": "completed"
    },
    "tags": []
   },
   "outputs": [],
   "source": [
    "#n = \"not_hatchet_node\"\n",
    "#th.display_histogram(combined_th, node=n, column=(\"Clang\", \"Machine clears\"))"
   ]
  },
  {
   "cell_type": "markdown",
   "id": "3835995d",
   "metadata": {
    "papermill": {
     "duration": 0.012484,
     "end_time": "2024-03-26T22:19:41.880039",
     "exception": false,
     "start_time": "2024-03-26T22:19:41.867555",
     "status": "completed"
    },
    "tags": []
   },
   "source": [
    "### 6.3 Displaying Boxplot\n",
    "\n",
    "The `display_boxplot` function will display a boxplot for each passed in node(s) and column(s). The passed nodes and columns must be from the performance data table. "
   ]
  },
  {
   "cell_type": "code",
   "execution_count": null,
   "id": "92e9574a",
   "metadata": {
    "execution": {
     "iopub.execute_input": "2024-03-26T22:19:41.905641Z",
     "iopub.status.busy": "2024-03-26T22:19:41.905535Z",
     "iopub.status.idle": "2024-03-26T22:19:41.909601Z",
     "shell.execute_reply": "2024-03-26T22:19:41.909416Z"
    },
    "papermill": {
     "duration": 0.01753,
     "end_time": "2024-03-26T22:19:41.910148",
     "exception": false,
     "start_time": "2024-03-26T22:19:41.892618",
     "status": "completed"
    },
    "tags": []
   },
   "outputs": [],
   "source": [
    "# Getting nodes to pass\n",
    "n = pd.unique(combined_th.dataframe.reset_index()[\"node\"])[0:2].tolist()"
   ]
  },
  {
   "cell_type": "markdown",
   "id": "c90df96a",
   "metadata": {
    "papermill": {
     "duration": 0.012497,
     "end_time": "2024-03-26T22:19:41.935149",
     "exception": false,
     "start_time": "2024-03-26T22:19:41.922652",
     "status": "completed"
    },
    "tags": []
   },
   "source": [
    "**Single Index Thicket Example**"
   ]
  },
  {
   "cell_type": "code",
   "execution_count": null,
   "id": "e8b4c726",
   "metadata": {
    "execution": {
     "iopub.execute_input": "2024-03-26T22:19:41.960454Z",
     "iopub.status.busy": "2024-03-26T22:19:41.960349Z",
     "iopub.status.idle": "2024-03-26T22:19:42.066575Z",
     "shell.execute_reply": "2024-03-26T22:19:42.066268Z"
    },
    "papermill": {
     "duration": 0.119579,
     "end_time": "2024-03-26T22:19:42.067159",
     "exception": false,
     "start_time": "2024-03-26T22:19:41.947580",
     "status": "completed"
    },
    "tags": []
   },
   "outputs": [],
   "source": [
    "plt.figure(figsize=(30, 30))\n",
    "th.display_boxplot(clang_th, nodes=n, columns=[\"Machine clears\", \"Frontend latency\"])"
   ]
  },
  {
   "cell_type": "markdown",
   "id": "f266979a",
   "metadata": {
    "papermill": {
     "duration": 0.013135,
     "end_time": "2024-03-26T22:19:42.093565",
     "exception": false,
     "start_time": "2024-03-26T22:19:42.080430",
     "status": "completed"
    },
    "tags": []
   },
   "source": [
    "**Multi-Indexed Thicket Example**\n",
    "\n",
    "Example will show how to pass a columnar joined thicket object. When passing a columnar joined thicket object, the columns argument will now take a list of tuples. Each tuple will consist of two elements. The first element will always be the column index, and the second element will be an associated column under the column index you passed.<br>\n",
    "\n",
    " - Example: (column_index, column_name) -> (\"GCC\", \"Machine clears\")"
   ]
  },
  {
   "cell_type": "code",
   "execution_count": null,
   "id": "2b5e74e3",
   "metadata": {
    "execution": {
     "iopub.execute_input": "2024-03-26T22:19:42.120181Z",
     "iopub.status.busy": "2024-03-26T22:19:42.120046Z",
     "iopub.status.idle": "2024-03-26T22:19:42.226753Z",
     "shell.execute_reply": "2024-03-26T22:19:42.226405Z"
    },
    "papermill": {
     "duration": 0.120791,
     "end_time": "2024-03-26T22:19:42.227476",
     "exception": false,
     "start_time": "2024-03-26T22:19:42.106685",
     "status": "completed"
    },
    "tags": []
   },
   "outputs": [],
   "source": [
    "plt.figure(figsize=(30, 30))\n",
    "th.display_boxplot(combined_th, nodes=n, columns=[(\"Clang\", \"time (exc)\"), (\"Clang\", \"Machine clears\")])"
   ]
  },
  {
   "cell_type": "markdown",
   "id": "f13de603",
   "metadata": {
    "papermill": {
     "duration": 0.013763,
     "end_time": "2024-03-26T22:19:42.255117",
     "exception": false,
     "start_time": "2024-03-26T22:19:42.241354",
     "status": "completed"
    },
    "tags": []
   },
   "source": [
    "**Example of Error if Not Passing Same Column Index**"
   ]
  },
  {
   "cell_type": "code",
   "execution_count": null,
   "id": "3e9a0abf",
   "metadata": {
    "execution": {
     "iopub.execute_input": "2024-03-26T22:19:42.282166Z",
     "iopub.status.busy": "2024-03-26T22:19:42.282021Z",
     "iopub.status.idle": "2024-03-26T22:19:42.284708Z",
     "shell.execute_reply": "2024-03-26T22:19:42.284416Z"
    },
    "papermill": {
     "duration": 0.016954,
     "end_time": "2024-03-26T22:19:42.285243",
     "exception": false,
     "start_time": "2024-03-26T22:19:42.268289",
     "status": "completed"
    },
    "tags": []
   },
   "outputs": [],
   "source": [
    "#th.display_boxplot(combined_th, nodes=n, columns=[(\"Clang\", \"time (exc)\"), (\"GCC\", \"Machine clears\")])"
   ]
  }
 ],
 "metadata": {
  "kernelspec": {
   "display_name": "Python 3",
   "language": "python",
   "name": "python3"
  },
  "language_info": {
   "codemirror_mode": {
    "name": "ipython",
    "version": 3
   },
   "file_extension": ".py",
   "mimetype": "text/x-python",
   "name": "python",
   "nbconvert_exporter": "python",
   "pygments_lexer": "ipython3",
   "version": "3.9.12"
  },
  "papermill": {
   "default_parameters": {},
   "duration": 5.589468,
   "end_time": "2024-03-26T22:19:42.628467",
   "environment_variables": {},
   "exception": null,
   "input_path": "04_stats-functions.ipynb",
   "output_path": "04_stats-functions.ipynb",
   "parameters": {},
   "start_time": "2024-03-26T22:19:37.038999",
   "version": "2.5.0"
  },
  "vscode": {
   "interpreter": {
    "hash": "31f2aee4e71d21fbe5cf8b01ff0e069b9275f58929596ceb00d14d90e3e16cd6"
   }
  }
 },
 "nbformat": 4,
 "nbformat_minor": 5
}
