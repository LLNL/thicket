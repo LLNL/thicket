{
 "cells": [
  {
   "cell_type": "markdown",
   "id": "387fdda3",
   "metadata": {
    "papermill": {
     "duration": 0.006795,
     "end_time": "2024-03-26T22:19:43.602813",
     "exception": false,
     "start_time": "2024-03-26T22:19:43.596018",
     "status": "completed"
    },
    "tags": []
   },
   "source": [
    "# Query Language: Thicket Tutorial\n",
    "\n",
    "Thicket is a python-based toolkit for Exploratory Data Analysis (EDA) of parallel performance data that enables performance optimization and understanding of applications’ performance on supercomputers. It bridges the performance tool gap between being able to consider only a single instance of a simulation run (e.g., single platform, single measurement tool, or single scale) and finding actionable insights in multi-dimensional, multi-scale, multi-architecture, and multi-tool performance datasets.\n",
    "\n",
    "**NOTE: An interactive version of this notebook is available in the Binder environment.**\n",
    "\n",
    "[![Binder](https://mybinder.org/badge_logo.svg)](https://mybinder.org/v2/gh/llnl/thicket-tutorial/develop)\n",
    "\n",
    "***\n",
    "\n",
    "## 1. Import Necessary Packages\n",
    "\n",
    "To explore the structure and various capabilities of thicket components, we begin by importing necessary packages. These include python extensions and thicket's statistical functions."
   ]
  },
  {
   "cell_type": "code",
   "execution_count": null,
   "id": "0689fbba",
   "metadata": {
    "execution": {
     "iopub.execute_input": "2024-03-26T22:19:43.615499Z",
     "iopub.status.busy": "2024-03-26T22:19:43.615059Z",
     "iopub.status.idle": "2024-03-26T22:19:44.167822Z",
     "shell.execute_reply": "2024-03-26T22:19:44.167403Z"
    },
    "papermill": {
     "duration": 0.5605,
     "end_time": "2024-03-26T22:19:44.168545",
     "exception": false,
     "start_time": "2024-03-26T22:19:43.608045",
     "status": "completed"
    },
    "scrolled": true,
    "tags": []
   },
   "outputs": [],
   "source": [
    "import re\n",
    "\n",
    "import numpy as np\n",
    "import pandas as pd\n",
    "import matplotlib.pyplot as plt\n",
    "from IPython.display import display\n",
    "from IPython.display import HTML\n",
    "import hatchet as ht\n",
    "\n",
    "import thicket as tt\n",
    "\n",
    "display(HTML(\"<style>.container { width:80% !important; }</style>\"))"
   ]
  },
  {
   "cell_type": "markdown",
   "id": "841835d6",
   "metadata": {
    "papermill": {
     "duration": 0.001936,
     "end_time": "2024-03-26T22:19:44.172806",
     "exception": false,
     "start_time": "2024-03-26T22:19:44.170870",
     "status": "completed"
    },
    "tags": []
   },
   "source": [
    "## 2. Read in Performance Profiles\n",
    "\n",
    "For this notebook, we select profiles generated on Lawrence Livermore National Lab (LLNL) machine, lassen. We create a thicket object generated with the same block size of 128. "
   ]
  },
  {
   "cell_type": "code",
   "execution_count": null,
   "id": "7643e225",
   "metadata": {
    "execution": {
     "iopub.execute_input": "2024-03-26T22:19:44.177477Z",
     "iopub.status.busy": "2024-03-26T22:19:44.177278Z",
     "iopub.status.idle": "2024-03-26T22:19:44.280798Z",
     "shell.execute_reply": "2024-03-26T22:19:44.280448Z"
    },
    "papermill": {
     "duration": 0.106798,
     "end_time": "2024-03-26T22:19:44.281404",
     "exception": false,
     "start_time": "2024-03-26T22:19:44.174606",
     "status": "completed"
    },
    "tags": []
   },
   "outputs": [],
   "source": [
    "problem_sizes = [\n",
    "    \"1048576\", \n",
    "    \"2097152\", \n",
    "    \"4194304\", \n",
    "    \"8388608\"\n",
    "]\n",
    "lassen1 = [f\"../data/lassen/clang10.0.1_nvcc10.2.89_{x}/Base_CUDA-block_128.cali\" for x in problem_sizes]\n",
    "lassen2 = [f\"../data/lassen/clang10.0.1_nvcc10.2.89_1048576/Base_CUDA-block_256.cali\"]\n",
    "\n",
    "# generate thicket(s)\n",
    "th_lassen = tt.Thicket.from_caliperreader(lassen1)"
   ]
  },
  {
   "cell_type": "markdown",
   "id": "cc16d40e",
   "metadata": {
    "papermill": {
     "duration": 0.001883,
     "end_time": "2024-03-26T22:19:44.288035",
     "exception": false,
     "start_time": "2024-03-26T22:19:44.286152",
     "status": "completed"
    },
    "tags": []
   },
   "source": [
    "## 3. More Information on a Function\n",
    "***\n",
    "You can use the help() method within Python to see the information for a given object. You can do this by typing help(object). \n",
    "This will allow you to see the arguments for the function, and what will be returned. An example is below."
   ]
  },
  {
   "cell_type": "code",
   "execution_count": null,
   "id": "6f7e0bb9",
   "metadata": {
    "execution": {
     "iopub.execute_input": "2024-03-26T22:19:44.291998Z",
     "iopub.status.busy": "2024-03-26T22:19:44.291897Z",
     "iopub.status.idle": "2024-03-26T22:19:44.294641Z",
     "shell.execute_reply": "2024-03-26T22:19:44.294309Z"
    },
    "papermill": {
     "duration": 0.005455,
     "end_time": "2024-03-26T22:19:44.295200",
     "exception": false,
     "start_time": "2024-03-26T22:19:44.289745",
     "status": "completed"
    },
    "scrolled": false,
    "tags": []
   },
   "outputs": [],
   "source": [
    "help(tt.median)"
   ]
  },
  {
   "cell_type": "markdown",
   "id": "83a23b65",
   "metadata": {
    "papermill": {
     "duration": 0.001887,
     "end_time": "2024-03-26T22:19:44.298862",
     "exception": false,
     "start_time": "2024-03-26T22:19:44.296975",
     "status": "completed"
    },
    "tags": []
   },
   "source": [
    "## 4. Append Statistical Calculation(s)\n",
    "***\n",
    "\n",
    "We can calculate statistical aggregations per-node in the performance data and append the values to the aggregated statistics table. In the example below, we calculate the per-node median time across 4 profiles and append the median to the statistics table. The new column is called `Total time_median`. \n",
    "\n",
    "Why is this important for this notebook?\n",
    "\n",
    "When the nodes in the performance data table change, the aggregated statistics table will change depending on the metric. Therefore, the aggregated statistics table is cleared after a query has been applied. In the examples further down, we use an appended column (specifically the median of total time) as the metric to print the call trees."
   ]
  },
  {
   "cell_type": "code",
   "execution_count": null,
   "id": "140ad4a4",
   "metadata": {
    "execution": {
     "iopub.execute_input": "2024-03-26T22:19:44.302810Z",
     "iopub.status.busy": "2024-03-26T22:19:44.302714Z",
     "iopub.status.idle": "2024-03-26T22:19:44.309439Z",
     "shell.execute_reply": "2024-03-26T22:19:44.309142Z"
    },
    "papermill": {
     "duration": 0.009311,
     "end_time": "2024-03-26T22:19:44.309964",
     "exception": false,
     "start_time": "2024-03-26T22:19:44.300653",
     "status": "completed"
    },
    "tags": []
   },
   "outputs": [],
   "source": [
    "metrics = [\"Total time\"]\n",
    "tt.median(th_lassen, columns=metrics)\n",
    "th_lassen.statsframe.dataframe"
   ]
  },
  {
   "cell_type": "markdown",
   "id": "d603a02a",
   "metadata": {
    "papermill": {
     "duration": 0.001838,
     "end_time": "2024-03-26T22:19:44.313712",
     "exception": false,
     "start_time": "2024-03-26T22:19:44.311874",
     "status": "completed"
    },
    "tags": []
   },
   "source": [
    "## 5. Thicket Query Language \n",
    "\n",
    "**Use the Query Language**\n",
    "\n",
    "Thicket's query language provides users the capability to select or `query` specific nodes based on the call tree component in thicket. The nodes in the performance data and statistics table are updated as well to reflect which nodes are remaining in the call tree."
   ]
  },
  {
   "cell_type": "code",
   "execution_count": null,
   "id": "a1212ef4",
   "metadata": {
    "execution": {
     "iopub.execute_input": "2024-03-26T22:19:44.317831Z",
     "iopub.status.busy": "2024-03-26T22:19:44.317739Z",
     "iopub.status.idle": "2024-03-26T22:19:44.323595Z",
     "shell.execute_reply": "2024-03-26T22:19:44.323296Z"
    },
    "papermill": {
     "duration": 0.008593,
     "end_time": "2024-03-26T22:19:44.324143",
     "exception": false,
     "start_time": "2024-03-26T22:19:44.315550",
     "status": "completed"
    },
    "scrolled": false,
    "tags": []
   },
   "outputs": [],
   "source": [
    "print(\"Initial call tree: \")\n",
    "print(th_lassen.statsframe.tree(\"Total time_median\"))"
   ]
  },
  {
   "cell_type": "markdown",
   "id": "71c35593",
   "metadata": {
    "papermill": {
     "duration": 0.001803,
     "end_time": "2024-03-26T22:19:44.327909",
     "exception": false,
     "start_time": "2024-03-26T22:19:44.326106",
     "status": "completed"
    },
    "tags": []
   },
   "source": [
    "### Example Query 1: Find a Subgraph with a Specific Root\n",
    "\n",
    "This example shows how to find a subtree starting with a specific root. More specifically, the query in this example finds a subtree rooted at the node with the name \"Stream\" followed by all nodes down to the leaf nodes.\n",
    "\n",
    "NOTE: A DeprecationWarning is generated when using “old-style” queries (i.e., queries with QueryMatcher) if you have the newest version of Hatchet installed."
   ]
  },
  {
   "cell_type": "code",
   "execution_count": null,
   "id": "6a2f4c62",
   "metadata": {
    "execution": {
     "iopub.execute_input": "2024-03-26T22:19:44.332048Z",
     "iopub.status.busy": "2024-03-26T22:19:44.331962Z",
     "iopub.status.idle": "2024-03-26T22:19:44.389667Z",
     "shell.execute_reply": "2024-03-26T22:19:44.389342Z"
    },
    "papermill": {
     "duration": 0.060572,
     "end_time": "2024-03-26T22:19:44.390301",
     "exception": false,
     "start_time": "2024-03-26T22:19:44.329729",
     "status": "completed"
    },
    "scrolled": false,
    "tags": []
   },
   "outputs": [],
   "source": [
    "query_ex1 = (\n",
    "    ht.QueryMatcher()\n",
    "    .match (\n",
    "        \".\", \n",
    "        lambda row: row[\"name\"].apply(\n",
    "        lambda x: re.match(\n",
    "            \"Stream\", x\n",
    "        )\n",
    "        is not None).all()\n",
    "    )\n",
    "    .rel(\"*\")\n",
    ")\n",
    "\n",
    "# applying the first query on the lassen thicket\n",
    "th_ex1 = th_lassen.query(query_ex1)\n",
    "tt.median(th_ex1, columns=[\"Total time\"])\n",
    "print(th_ex1.statsframe.tree(\"Total time_median\"))"
   ]
  },
  {
   "cell_type": "markdown",
   "id": "39c03f96",
   "metadata": {
    "papermill": {
     "duration": 0.002018,
     "end_time": "2024-03-26T22:19:44.394783",
     "exception": false,
     "start_time": "2024-03-26T22:19:44.392765",
     "status": "completed"
    },
    "tags": []
   },
   "source": [
    "### Example Query 2: Find All Paths Ending with a Specific Node\n",
    "\n",
    "This example shows how to find all paths of a GraphFrame ending with a specific node. More specifically, the queries in this example can be used to find paths ending with a node named \"Stream\"."
   ]
  },
  {
   "cell_type": "code",
   "execution_count": null,
   "id": "037f5ad7",
   "metadata": {
    "execution": {
     "iopub.execute_input": "2024-03-26T22:19:44.399244Z",
     "iopub.status.busy": "2024-03-26T22:19:44.399155Z",
     "iopub.status.idle": "2024-03-26T22:19:44.466566Z",
     "shell.execute_reply": "2024-03-26T22:19:44.466263Z"
    },
    "papermill": {
     "duration": 0.07033,
     "end_time": "2024-03-26T22:19:44.467189",
     "exception": false,
     "start_time": "2024-03-26T22:19:44.396859",
     "status": "completed"
    },
    "tags": []
   },
   "outputs": [],
   "source": [
    "query_ex2 = (\n",
    "    ht.QueryMatcher()\n",
    "    .match (\"*\")\n",
    "    .rel(\".\",\n",
    "         lambda row: row[\"name\"].apply(\n",
    "        lambda x: re.match(\n",
    "            \"Stream\", x\n",
    "        )\n",
    "        is not None).all()\n",
    "        )\n",
    ")\n",
    "\n",
    "# applying the second query on the lassen thicket\n",
    "th_ex2 = th_lassen.query(query_ex2)\n",
    "tt.median(th_ex2, columns=[\"Total time\"])\n",
    "print(th_ex2.statsframe.tree(\"Total time_median\"))"
   ]
  },
  {
   "cell_type": "markdown",
   "id": "3c70ab25",
   "metadata": {
    "papermill": {
     "duration": 0.002004,
     "end_time": "2024-03-26T22:19:44.471444",
     "exception": false,
     "start_time": "2024-03-26T22:19:44.469440",
     "status": "completed"
    },
    "tags": []
   },
   "source": [
    "### Example Query 3: Find All Paths with Specific Starting and Ending Nodes\n",
    "\n",
    "This example shows how to find all call paths starting with and ending with specific nodes. More specifically, the query in this example finds paths starting with a node named \"Stream\" and ending with a node named \"Stream_MUL\"."
   ]
  },
  {
   "cell_type": "code",
   "execution_count": null,
   "id": "28ae2678",
   "metadata": {
    "execution": {
     "iopub.execute_input": "2024-03-26T22:19:44.475860Z",
     "iopub.status.busy": "2024-03-26T22:19:44.475774Z",
     "iopub.status.idle": "2024-03-26T22:19:44.544557Z",
     "shell.execute_reply": "2024-03-26T22:19:44.544250Z"
    },
    "papermill": {
     "duration": 0.071699,
     "end_time": "2024-03-26T22:19:44.545182",
     "exception": false,
     "start_time": "2024-03-26T22:19:44.473483",
     "status": "completed"
    },
    "tags": []
   },
   "outputs": [],
   "source": [
    "query_ex3 = (\n",
    "    ht.QueryMatcher()\n",
    "    .match (\".\",\n",
    "            lambda row: row[\"name\"].apply(\n",
    "                lambda x: re.match(\n",
    "                    \"Stream\", x\n",
    "                )\n",
    "                is not None).all()\n",
    "           )\n",
    "    .rel(\"*\")\n",
    "    .rel(\".\",\n",
    "         lambda row: row[\"name\"].apply(\n",
    "        lambda x: re.match(\n",
    "            \"Stream_MUL\", x\n",
    "        )\n",
    "        is not None).all()\n",
    "        )\n",
    ")\n",
    "\n",
    "# applying the third query on the lassen thicket\n",
    "th_ex3 = th_lassen.query(query_ex3)\n",
    "tt.median(th_ex3, columns=[\"Total time\"])\n",
    "print(th_ex3.statsframe.tree(\"Total time_median\"))"
   ]
  },
  {
   "cell_type": "markdown",
   "id": "aa358ba0",
   "metadata": {
    "papermill": {
     "duration": 0.002211,
     "end_time": "2024-03-26T22:19:44.549876",
     "exception": false,
     "start_time": "2024-03-26T22:19:44.547665",
     "status": "completed"
    },
    "tags": []
   },
   "source": [
    "### Example Query 4: Find All Nodes for a Particular Software Library\n",
    "\n",
    "This example shows how to find all call paths representing a specific software library. This example is simply a variant of finding a subtree with a given root (i.e., from :ref:`this section <subgraph_root_ex>`). The example query below can be adapted to find the nodes for a subset of the MPI library, for example. In our example, we look for subtrees rooted at PolyBench_2MM, Basic_DAXPY, and Apps_ENERGY."
   ]
  },
  {
   "cell_type": "code",
   "execution_count": null,
   "id": "99a509de",
   "metadata": {
    "execution": {
     "iopub.execute_input": "2024-03-26T22:19:44.554418Z",
     "iopub.status.busy": "2024-03-26T22:19:44.554323Z",
     "iopub.status.idle": "2024-03-26T22:19:44.623647Z",
     "shell.execute_reply": "2024-03-26T22:19:44.623327Z"
    },
    "papermill": {
     "duration": 0.072328,
     "end_time": "2024-03-26T22:19:44.624261",
     "exception": false,
     "start_time": "2024-03-26T22:19:44.551933",
     "status": "completed"
    },
    "scrolled": true,
    "tags": []
   },
   "outputs": [],
   "source": [
    "api_entrypoints = [\n",
    "            \"Polybench_2MM\",\n",
    "            \"Basic_DAXPY\",\n",
    "            \"Apps_ENERGY\",\n",
    "         ]\n",
    "\n",
    "query_ex4 = (\n",
    "    ht.QueryMatcher()\n",
    "    .match (\".\",\n",
    "            lambda row: row[\"name\"].apply(\n",
    "                lambda x: x in api_entrypoints).all()\n",
    "           )\n",
    "    .rel(\"*\")\n",
    ")\n",
    "\n",
    "# applying the fourth query on the lassen thicket\n",
    "th_ex4 = th_lassen.query(query_ex4)\n",
    "tt.median(th_ex4, columns=[\"Total time\"])\n",
    "print(th_ex4.statsframe.tree(\"Total time_median\"))"
   ]
  },
  {
   "cell_type": "markdown",
   "id": "596fd8bd",
   "metadata": {
    "papermill": {
     "duration": 0.002338,
     "end_time": "2024-03-26T22:19:44.629086",
     "exception": false,
     "start_time": "2024-03-26T22:19:44.626748",
     "status": "completed"
    },
    "tags": []
   },
   "source": [
    "### Example Query 5: Find All Paths through a Specific Node\n",
    "\n",
    "This example shows how to find all call paths that pass through a specific node. More specifically, the query below finds all paths that pass through a node named \"Stream\"."
   ]
  },
  {
   "cell_type": "code",
   "execution_count": null,
   "id": "92f36b94",
   "metadata": {
    "execution": {
     "iopub.execute_input": "2024-03-26T22:19:44.634170Z",
     "iopub.status.busy": "2024-03-26T22:19:44.634042Z",
     "iopub.status.idle": "2024-03-26T22:19:44.710588Z",
     "shell.execute_reply": "2024-03-26T22:19:44.710286Z"
    },
    "papermill": {
     "duration": 0.07985,
     "end_time": "2024-03-26T22:19:44.711214",
     "exception": false,
     "start_time": "2024-03-26T22:19:44.631364",
     "status": "completed"
    },
    "tags": []
   },
   "outputs": [],
   "source": [
    "query_ex5 = (\n",
    "    ht.QueryMatcher()\n",
    "    .match (\"*\")\n",
    "    .rel(\".\",\n",
    "         lambda row: row[\"name\"].apply(\n",
    "        lambda x: re.match(\n",
    "            \"Stream\", x\n",
    "        )\n",
    "        is not None).all()\n",
    "        )\n",
    "    .rel(\"*\")\n",
    ")\n",
    "\n",
    "# applying the fifth query on the lassen thicket\n",
    "th_ex5 = th_lassen.query(query_ex5)\n",
    "tt.median(th_ex5, columns=[\"Total time\"])\n",
    "print(th_ex5.statsframe.tree(\"Total time_median\"))"
   ]
  }
 ],
 "metadata": {
  "kernelspec": {
   "display_name": "Python 3",
   "language": "python",
   "name": "python3"
  },
  "language_info": {
   "codemirror_mode": {
    "name": "ipython",
    "version": 3
   },
   "file_extension": ".py",
   "mimetype": "text/x-python",
   "name": "python",
   "nbconvert_exporter": "python",
   "pygments_lexer": "ipython3",
   "version": "3.9.12"
  },
  "papermill": {
   "default_parameters": {},
   "duration": 2.215399,
   "end_time": "2024-03-26T22:19:45.042627",
   "environment_variables": {},
   "exception": null,
   "input_path": "05_thicket_query_language.ipynb",
   "output_path": "05_thicket_query_language.ipynb",
   "parameters": {},
   "start_time": "2024-03-26T22:19:42.827228",
   "version": "2.5.0"
  }
 },
 "nbformat": 4,
 "nbformat_minor": 5
}
