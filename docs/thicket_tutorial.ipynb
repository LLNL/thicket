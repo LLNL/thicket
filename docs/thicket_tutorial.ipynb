{
 "cells": [
  {
   "cell_type": "markdown",
   "id": "b298bc4a",
   "metadata": {
    "papermill": {
     "duration": 0.009169,
     "end_time": "2024-03-26T22:19:26.881103",
     "exception": false,
     "start_time": "2024-03-26T22:19:26.871934",
     "status": "completed"
    },
    "tags": []
   },
   "source": [
    "# Basic Thicket Tutorial: Thicket 101\n",
    "\n",
    "Thicket is a python-based toolkit for Exploratory Data Analysis (EDA) of parallel performance data that enables performance optimization and understanding of applications’ performance on supercomputers. It bridges the performance tool gap between being able to consider only a single instance of a simulation run (e.g., single platform, single measurement tool, or single scale) and finding actionable insights in multi-dimensional, multi-scale, multi-architecture, and multi-tool performance datasets.\n",
    "\n",
    "**NOTE: An interactive version of this notebook is available in the Binder environment.**\n",
    "\n",
    "[![Binder](https://mybinder.org/badge_logo.svg)](https://mybinder.org/v2/gh/llnl/thicket-tutorial/develop)\n",
    "\n",
    "***\n",
    "\n",
    "## 1. Import Necessary Packages\n",
    "\n",
    "To explore the structure and various capabilities of thicket components, we begin by importing necessary packages. These include python extensions and thicket's statistical functions."
   ]
  },
  {
   "cell_type": "code",
   "execution_count": null,
   "id": "4e9d66ee",
   "metadata": {
    "execution": {
     "iopub.execute_input": "2024-03-26T22:19:26.898836Z",
     "iopub.status.busy": "2024-03-26T22:19:26.898682Z",
     "iopub.status.idle": "2024-03-26T22:19:27.445595Z",
     "shell.execute_reply": "2024-03-26T22:19:27.445228Z"
    },
    "papermill": {
     "duration": 0.556743,
     "end_time": "2024-03-26T22:19:27.446317",
     "exception": false,
     "start_time": "2024-03-26T22:19:26.889574",
     "status": "completed"
    },
    "scrolled": true,
    "tags": []
   },
   "outputs": [],
   "source": [
    "import re\n",
    "\n",
    "import numpy as np\n",
    "import pandas as pd\n",
    "import matplotlib.pyplot as plt\n",
    "from IPython.display import display\n",
    "from IPython.display import HTML\n",
    "import hatchet as ht\n",
    "\n",
    "import thicket as tt\n",
    "\n",
    "display(HTML(\"<style>.container { width:80% !important; }</style>\"))"
   ]
  },
  {
   "cell_type": "markdown",
   "id": "6346dfa4",
   "metadata": {
    "papermill": {
     "duration": 0.00281,
     "end_time": "2024-03-26T22:19:27.452280",
     "exception": false,
     "start_time": "2024-03-26T22:19:27.449470",
     "status": "completed"
    },
    "tags": []
   },
   "source": [
    "## 2. Read in Performance Profiles\n",
    "\n",
    "For this notebook, we select profiles generated on Lawrence Livermore National Lab (LLNL) machine, lassen. We create two thicket objects, one generated with the same block size of 128 and the other generated with different block sizes (128 and 256).   "
   ]
  },
  {
   "cell_type": "code",
   "execution_count": null,
   "id": "075dda6a",
   "metadata": {
    "execution": {
     "iopub.execute_input": "2024-03-26T22:19:27.457941Z",
     "iopub.status.busy": "2024-03-26T22:19:27.457819Z",
     "iopub.status.idle": "2024-03-26T22:19:27.666450Z",
     "shell.execute_reply": "2024-03-26T22:19:27.666096Z"
    },
    "papermill": {
     "duration": 0.212221,
     "end_time": "2024-03-26T22:19:27.667103",
     "exception": false,
     "start_time": "2024-03-26T22:19:27.454882",
     "status": "completed"
    },
    "tags": []
   },
   "outputs": [],
   "source": [
    "problem_sizes = [\n",
    "    \"1048576\", \n",
    "    \"2097152\", \n",
    "    \"4194304\", \n",
    "    \"8388608\"\n",
    "]\n",
    "lassen1 = [f\"../data/lassen/clang10.0.1_nvcc10.2.89_{x}/Base_CUDA-block_128.cali\" for x in problem_sizes]\n",
    "lassen2 = [f\"../data/lassen/clang10.0.1_nvcc10.2.89_1048576/Base_CUDA-block_256.cali\"]\n",
    "\n",
    "# generate thicket(s)\n",
    "th_lassen = tt.Thicket.from_caliperreader(lassen1)\n",
    "th_obj = tt.Thicket.from_caliperreader(lassen1 + lassen2)"
   ]
  },
  {
   "cell_type": "markdown",
   "id": "79187115",
   "metadata": {
    "papermill": {
     "duration": 0.00275,
     "end_time": "2024-03-26T22:19:27.672925",
     "exception": false,
     "start_time": "2024-03-26T22:19:27.670175",
     "status": "completed"
    },
    "tags": []
   },
   "source": [
    "## 3. More Information on a Function\n",
    "\n",
    "You can use the `help()` method within Python to see the information for a given object. You can do this by typing `help(object)`. \n",
    "This will allow you to see the arguments for the function, and what will be returned. An example is below."
   ]
  },
  {
   "cell_type": "code",
   "execution_count": null,
   "id": "80bce559",
   "metadata": {
    "execution": {
     "iopub.execute_input": "2024-03-26T22:19:27.678772Z",
     "iopub.status.busy": "2024-03-26T22:19:27.678675Z",
     "iopub.status.idle": "2024-03-26T22:19:27.681576Z",
     "shell.execute_reply": "2024-03-26T22:19:27.681124Z"
    },
    "papermill": {
     "duration": 0.006557,
     "end_time": "2024-03-26T22:19:27.682218",
     "exception": false,
     "start_time": "2024-03-26T22:19:27.675661",
     "status": "completed"
    },
    "tags": []
   },
   "outputs": [],
   "source": [
    "help(tt.median)"
   ]
  },
  {
   "cell_type": "markdown",
   "id": "3840d6c6",
   "metadata": {
    "papermill": {
     "duration": 0.002655,
     "end_time": "2024-03-26T22:19:27.687734",
     "exception": false,
     "start_time": "2024-03-26T22:19:27.685079",
     "status": "completed"
    },
    "tags": []
   },
   "source": [
    "## 4. Thicket Components\n",
    "\n",
    "### 4.1 Performance Data\n",
    "\n",
    "The performance data table is a multi-dimensional, multi-indexed component of thicket. The rows represent nodes that each contain a different execution (i.e., profile index) of the associated call tree node. \n",
    "\n",
    "\n",
    "#### View performance data table"
   ]
  },
  {
   "cell_type": "code",
   "execution_count": null,
   "id": "b9c694b3",
   "metadata": {
    "execution": {
     "iopub.execute_input": "2024-03-26T22:19:27.693390Z",
     "iopub.status.busy": "2024-03-26T22:19:27.693291Z",
     "iopub.status.idle": "2024-03-26T22:19:27.730549Z",
     "shell.execute_reply": "2024-03-26T22:19:27.730212Z"
    },
    "papermill": {
     "duration": 0.040864,
     "end_time": "2024-03-26T22:19:27.731205",
     "exception": false,
     "start_time": "2024-03-26T22:19:27.690341",
     "status": "completed"
    },
    "scrolled": true,
    "tags": []
   },
   "outputs": [],
   "source": [
    "display(HTML(th_lassen.dataframe.to_html()))"
   ]
  },
  {
   "cell_type": "markdown",
   "id": "90326f42",
   "metadata": {
    "papermill": {
     "duration": 0.004047,
     "end_time": "2024-03-26T22:19:27.740080",
     "exception": false,
     "start_time": "2024-03-26T22:19:27.736033",
     "status": "completed"
    },
    "tags": []
   },
   "source": [
    "#### Composing multiple thickets\n",
    "We can compose thickets in a hierarchical, horizontal ordering using thicket's `columnar_join` function. In this example, we compose profiles of four different problem sizes and four different block sizes seamlessly."
   ]
  },
  {
   "cell_type": "code",
   "execution_count": null,
   "id": "b159b0c0",
   "metadata": {
    "execution": {
     "iopub.execute_input": "2024-03-26T22:19:27.748814Z",
     "iopub.status.busy": "2024-03-26T22:19:27.748704Z",
     "iopub.status.idle": "2024-03-26T22:19:27.751317Z",
     "shell.execute_reply": "2024-03-26T22:19:27.751085Z"
    },
    "papermill": {
     "duration": 0.007654,
     "end_time": "2024-03-26T22:19:27.751858",
     "exception": false,
     "start_time": "2024-03-26T22:19:27.744204",
     "status": "completed"
    },
    "tags": []
   },
   "outputs": [],
   "source": [
    "data = {\n",
    "    \"block_128\": [f\"../data/lassen/clang10.0.1_nvcc10.2.89_{x}/Base_CUDA-block_128.cali\" for x in problem_sizes],\n",
    "    \"block_256\": [f\"../data/lassen/clang10.0.1_nvcc10.2.89_{x}/Base_CUDA-block_256.cali\" for x in problem_sizes],\n",
    "    \"block_512\": [f\"../data/lassen/clang10.0.1_nvcc10.2.89_{x}/Base_CUDA-block_512.cali\" for x in problem_sizes],\n",
    "    \"block_1024\": [f\"../data/lassen/clang10.0.1_nvcc10.2.89_{x}/Base_CUDA-block_1024.cali\" for x in problem_sizes],\n",
    "}"
   ]
  },
  {
   "cell_type": "code",
   "execution_count": null,
   "id": "6c17da78",
   "metadata": {
    "execution": {
     "iopub.execute_input": "2024-03-26T22:19:27.760599Z",
     "iopub.status.busy": "2024-03-26T22:19:27.760503Z",
     "iopub.status.idle": "2024-03-26T22:19:28.147486Z",
     "shell.execute_reply": "2024-03-26T22:19:28.147170Z"
    },
    "papermill": {
     "duration": 0.392164,
     "end_time": "2024-03-26T22:19:28.148143",
     "exception": false,
     "start_time": "2024-03-26T22:19:27.755979",
     "status": "completed"
    },
    "tags": []
   },
   "outputs": [],
   "source": [
    "block_128 = tt.Thicket.from_caliperreader(data[\"block_128\"])\n",
    "block_256 = tt.Thicket.from_caliperreader(data[\"block_256\"])\n",
    "block_512 = tt.Thicket.from_caliperreader(data[\"block_512\"])\n",
    "block_1024 = tt.Thicket.from_caliperreader(data[\"block_1024\"])"
   ]
  },
  {
   "cell_type": "code",
   "execution_count": null,
   "id": "66ab720b",
   "metadata": {
    "execution": {
     "iopub.execute_input": "2024-03-26T22:19:28.157485Z",
     "iopub.status.busy": "2024-03-26T22:19:28.157389Z",
     "iopub.status.idle": "2024-03-26T22:19:28.230538Z",
     "shell.execute_reply": "2024-03-26T22:19:28.230188Z"
    },
    "papermill": {
     "duration": 0.078558,
     "end_time": "2024-03-26T22:19:28.231331",
     "exception": false,
     "start_time": "2024-03-26T22:19:28.152773",
     "status": "completed"
    },
    "tags": []
   },
   "outputs": [],
   "source": [
    "th_cj = tt.Thicket.concat_thickets(\n",
    "    axis=\"columns\",\n",
    "    thickets=[block_128, block_256, block_512, block_1024],\n",
    "    headers=[\"Block 128\", \"Block 256\", \"Block 512\", \"Block 1024\"],\n",
    "    metadata_key=\"ProblemSizeRunParam\"\n",
    ")"
   ]
  },
  {
   "cell_type": "markdown",
   "id": "b8ad9292",
   "metadata": {
    "papermill": {
     "duration": 0.004208,
     "end_time": "2024-03-26T22:19:28.240170",
     "exception": false,
     "start_time": "2024-03-26T22:19:28.235962",
     "status": "completed"
    },
    "tags": []
   },
   "source": [
    "#### View combined thicket's performance data"
   ]
  },
  {
   "cell_type": "code",
   "execution_count": null,
   "id": "1753f3ec",
   "metadata": {
    "execution": {
     "iopub.execute_input": "2024-03-26T22:19:28.249178Z",
     "iopub.status.busy": "2024-03-26T22:19:28.249072Z",
     "iopub.status.idle": "2024-03-26T22:19:28.382330Z",
     "shell.execute_reply": "2024-03-26T22:19:28.382013Z"
    },
    "papermill": {
     "duration": 0.139421,
     "end_time": "2024-03-26T22:19:28.383801",
     "exception": false,
     "start_time": "2024-03-26T22:19:28.244380",
     "status": "completed"
    },
    "tags": []
   },
   "outputs": [],
   "source": [
    "display(HTML(th_cj.dataframe.to_html()))"
   ]
  },
  {
   "cell_type": "markdown",
   "id": "302ff7a5",
   "metadata": {
    "papermill": {
     "duration": 0.008965,
     "end_time": "2024-03-26T22:19:28.402204",
     "exception": false,
     "start_time": "2024-03-26T22:19:28.393239",
     "status": "completed"
    },
    "tags": []
   },
   "source": [
    "### 4.2 Metadata\n",
    "\n",
    "The metadata table stores HPC simulation information such as an application’s build settings and execution context. A row corresponds to a single execution of the application and is identified by a unique profile index.\n",
    "\n",
    "#### View metadata table:"
   ]
  },
  {
   "cell_type": "code",
   "execution_count": null,
   "id": "e7569694",
   "metadata": {
    "execution": {
     "iopub.execute_input": "2024-03-26T22:19:28.420881Z",
     "iopub.status.busy": "2024-03-26T22:19:28.420761Z",
     "iopub.status.idle": "2024-03-26T22:19:28.426274Z",
     "shell.execute_reply": "2024-03-26T22:19:28.426040Z"
    },
    "papermill": {
     "duration": 0.015374,
     "end_time": "2024-03-26T22:19:28.426800",
     "exception": false,
     "start_time": "2024-03-26T22:19:28.411426",
     "status": "completed"
    },
    "scrolled": true,
    "tags": []
   },
   "outputs": [],
   "source": [
    "display(HTML(th_lassen.metadata.to_html()))"
   ]
  },
  {
   "cell_type": "markdown",
   "id": "ee64715c",
   "metadata": {
    "papermill": {
     "duration": 0.00899,
     "end_time": "2024-03-26T22:19:28.445058",
     "exception": false,
     "start_time": "2024-03-26T22:19:28.436068",
     "status": "completed"
    },
    "tags": []
   },
   "source": [
    "#### Filter with respect to metadata\n",
    "\n",
    "The metadata table of a thicket helps select certain variation based on specific metadata. For example, selecting a certain compiler. In this example, we filter the metadata to select the profiles generated with a problem size of `1048576`."
   ]
  },
  {
   "cell_type": "code",
   "execution_count": null,
   "id": "a5de9a0e",
   "metadata": {
    "execution": {
     "iopub.execute_input": "2024-03-26T22:19:28.463698Z",
     "iopub.status.busy": "2024-03-26T22:19:28.463582Z",
     "iopub.status.idle": "2024-03-26T22:19:28.470285Z",
     "shell.execute_reply": "2024-03-26T22:19:28.470027Z"
    },
    "papermill": {
     "duration": 0.016714,
     "end_time": "2024-03-26T22:19:28.470790",
     "exception": false,
     "start_time": "2024-03-26T22:19:28.454076",
     "status": "completed"
    },
    "tags": []
   },
   "outputs": [],
   "source": [
    "# selecting profiles with specified problem size\n",
    "filter_metadata_func = lambda x: x[\"ProblemSizeRunParam\"] == 1048576.0\n",
    "th_example = th_obj.filter_metadata(filter_metadata_func)\n",
    "display(HTML(th_example.metadata.to_html()))"
   ]
  },
  {
   "cell_type": "markdown",
   "id": "d74c0727",
   "metadata": {
    "papermill": {
     "duration": 0.009068,
     "end_time": "2024-03-26T22:19:28.489050",
     "exception": false,
     "start_time": "2024-03-26T22:19:28.479982",
     "status": "completed"
    },
    "tags": []
   },
   "source": [
    "#### Groupby using the metadata \n",
    "\n",
    "The metadata table also supports the grouping of the thicket based on the unique values present in the provided column(s). The following example groups the thicket according to any unique combination of values in the `launchdate` and `ProblemSizeRunParam` columns."
   ]
  },
  {
   "cell_type": "code",
   "execution_count": null,
   "id": "05ffaf49",
   "metadata": {
    "execution": {
     "iopub.execute_input": "2024-03-26T22:19:28.508031Z",
     "iopub.status.busy": "2024-03-26T22:19:28.507925Z",
     "iopub.status.idle": "2024-03-26T22:19:28.537406Z",
     "shell.execute_reply": "2024-03-26T22:19:28.537057Z"
    },
    "papermill": {
     "duration": 0.039838,
     "end_time": "2024-03-26T22:19:28.537978",
     "exception": false,
     "start_time": "2024-03-26T22:19:28.498140",
     "status": "completed"
    },
    "tags": []
   },
   "outputs": [],
   "source": [
    "# create sub-thickets from unique values in two columns\n",
    "grouping_metadata_cols = [\"launchdate\", \"ProblemSizeRunParam\"]\n",
    "sub_thickets = th_lassen.groupby(grouping_metadata_cols)\n",
    "for groupby_cols, thicket in sub_thickets.items():\n",
    "    display(thicket.metadata)"
   ]
  },
  {
   "cell_type": "markdown",
   "id": "c6c00bbf",
   "metadata": {
    "papermill": {
     "duration": 0.009849,
     "end_time": "2024-03-26T22:19:28.557670",
     "exception": false,
     "start_time": "2024-03-26T22:19:28.547821",
     "status": "completed"
    },
    "tags": []
   },
   "source": [
    "### 4.3 Aggregated Statistics\n",
    "\n",
    "The aggregated statistics in a thicket is a GraphFrame. Therefore, it contains a graph and corresponding dataframe component. The table supports an order-reduction mechanism and stores processed applications’ performance. Each row of the aggregated statistics table holds data aggregated across all profiles associated with a particular call tree node. Below is an example of an empty aggregated statistics table \n",
    "\n",
    "\n",
    "#### View aggregated statistics table"
   ]
  },
  {
   "cell_type": "code",
   "execution_count": null,
   "id": "0b57311d",
   "metadata": {
    "execution": {
     "iopub.execute_input": "2024-03-26T22:19:28.577463Z",
     "iopub.status.busy": "2024-03-26T22:19:28.577350Z",
     "iopub.status.idle": "2024-03-26T22:19:28.581376Z",
     "shell.execute_reply": "2024-03-26T22:19:28.581112Z"
    },
    "papermill": {
     "duration": 0.014649,
     "end_time": "2024-03-26T22:19:28.581918",
     "exception": false,
     "start_time": "2024-03-26T22:19:28.567269",
     "status": "completed"
    },
    "tags": []
   },
   "outputs": [],
   "source": [
    "display(HTML(th_lassen.statsframe.dataframe.to_html()))"
   ]
  },
  {
   "cell_type": "markdown",
   "id": "4616737d",
   "metadata": {
    "papermill": {
     "duration": 0.009377,
     "end_time": "2024-03-26T22:19:28.601279",
     "exception": false,
     "start_time": "2024-03-26T22:19:28.591902",
     "status": "completed"
    },
    "tags": []
   },
   "source": [
    "#### Filter with respect to aggregated statistics\n",
    "\n",
    "The aggregated statistics table also supports a filter function. In the example below, we filter the table to select the nodes with the names `RAJAPerf`, `Algorithm`, and `Stream_MUL`."
   ]
  },
  {
   "cell_type": "code",
   "execution_count": null,
   "id": "0c2f3ea4",
   "metadata": {
    "execution": {
     "iopub.execute_input": "2024-03-26T22:19:28.620941Z",
     "iopub.status.busy": "2024-03-26T22:19:28.620837Z",
     "iopub.status.idle": "2024-03-26T22:19:28.649480Z",
     "shell.execute_reply": "2024-03-26T22:19:28.649178Z"
    },
    "papermill": {
     "duration": 0.039201,
     "end_time": "2024-03-26T22:19:28.650073",
     "exception": false,
     "start_time": "2024-03-26T22:19:28.610872",
     "status": "completed"
    },
    "tags": []
   },
   "outputs": [],
   "source": [
    "stats_nodes = [\"RAJAPerf\", \"Algorithm\", \"Stream_MUL\"]\n",
    "th_stats_name = th_obj.filter_stats(lambda x: x[\"name\"] in stats_nodes)\n",
    "display(HTML(th_stats_name.statsframe.dataframe.to_html()))"
   ]
  },
  {
   "cell_type": "markdown",
   "id": "148474b0",
   "metadata": {
    "papermill": {
     "duration": 0.010057,
     "end_time": "2024-03-26T22:19:28.670051",
     "exception": false,
     "start_time": "2024-03-26T22:19:28.659994",
     "status": "completed"
    },
    "tags": []
   },
   "source": [
    "#### Calculate the median and mean of performance data column, append to aggregated statistics table\n",
    "\n",
    "The aggregated statistics table allows users to select a column from the performance data to perform an average on the values in a column. After performing the `median()` and `mean()` operation on said column, two new columns are appended to the statistics table with the mean and median values corresponding to the columns provided by the user. \n",
    "\n",
    "Below is an example where we calculate the mean and median of the values in the `Total time` column, which is the total exclusive time corresponding to the respective nodes.  "
   ]
  },
  {
   "cell_type": "code",
   "execution_count": null,
   "id": "d38cc661",
   "metadata": {
    "execution": {
     "iopub.execute_input": "2024-03-26T22:19:28.690346Z",
     "iopub.status.busy": "2024-03-26T22:19:28.690226Z",
     "iopub.status.idle": "2024-03-26T22:19:28.696332Z",
     "shell.execute_reply": "2024-03-26T22:19:28.696064Z"
    },
    "papermill": {
     "duration": 0.017073,
     "end_time": "2024-03-26T22:19:28.697005",
     "exception": false,
     "start_time": "2024-03-26T22:19:28.679932",
     "status": "completed"
    },
    "tags": []
   },
   "outputs": [],
   "source": [
    "metrics = [\"Total time\"]\n",
    "tt.median(th_lassen, columns=metrics)\n",
    "display(HTML(th_lassen.statsframe.dataframe.to_html()))"
   ]
  },
  {
   "cell_type": "code",
   "execution_count": null,
   "id": "8aacec0c",
   "metadata": {
    "execution": {
     "iopub.execute_input": "2024-03-26T22:19:28.718447Z",
     "iopub.status.busy": "2024-03-26T22:19:28.718339Z",
     "iopub.status.idle": "2024-03-26T22:19:28.724290Z",
     "shell.execute_reply": "2024-03-26T22:19:28.723977Z"
    },
    "papermill": {
     "duration": 0.017692,
     "end_time": "2024-03-26T22:19:28.724882",
     "exception": false,
     "start_time": "2024-03-26T22:19:28.707190",
     "status": "completed"
    },
    "tags": []
   },
   "outputs": [],
   "source": [
    "tt.mean(th_lassen, columns=metrics)\n",
    "display(HTML(th_lassen.statsframe.dataframe.to_html()))"
   ]
  },
  {
   "cell_type": "markdown",
   "id": "5e8581b4",
   "metadata": {
    "papermill": {
     "duration": 0.01084,
     "end_time": "2024-03-26T22:19:28.746428",
     "exception": false,
     "start_time": "2024-03-26T22:19:28.735588",
     "status": "completed"
    },
    "tags": []
   },
   "source": [
    "#### Calculate the percentile of performance data column, append to aggregated statistics table\n",
    "\n",
    "The aggregated statistics table allows users to select a column from the performance data to perform the `percentiles()` operation. This results in a new column appended to the statistics table containing the 25th, 50th, and 75th percentiles of the values in the provided column.\n",
    "\n",
    "Below is an example where we calculate the percentiles of the values in the same `Total time` column."
   ]
  },
  {
   "cell_type": "code",
   "execution_count": null,
   "id": "0acd03eb",
   "metadata": {
    "execution": {
     "iopub.execute_input": "2024-03-26T22:19:28.767576Z",
     "iopub.status.busy": "2024-03-26T22:19:28.767460Z",
     "iopub.status.idle": "2024-03-26T22:19:28.783372Z",
     "shell.execute_reply": "2024-03-26T22:19:28.783093Z"
    },
    "papermill": {
     "duration": 0.026997,
     "end_time": "2024-03-26T22:19:28.784039",
     "exception": false,
     "start_time": "2024-03-26T22:19:28.757042",
     "status": "completed"
    },
    "scrolled": true,
    "tags": []
   },
   "outputs": [],
   "source": [
    "tt.percentiles(th_lassen, columns=metrics)\n",
    "display(HTML(th_lassen.statsframe.dataframe.to_html()))"
   ]
  },
  {
   "cell_type": "markdown",
   "id": "a9a78712",
   "metadata": {
    "papermill": {
     "duration": 0.011002,
     "end_time": "2024-03-26T22:19:28.805324",
     "exception": false,
     "start_time": "2024-03-26T22:19:28.794322",
     "status": "completed"
    },
    "tags": []
   },
   "source": [
    "#### View aggregated statistics call tree"
   ]
  },
  {
   "cell_type": "code",
   "execution_count": null,
   "id": "420e8e39",
   "metadata": {
    "execution": {
     "iopub.execute_input": "2024-03-26T22:19:28.826524Z",
     "iopub.status.busy": "2024-03-26T22:19:28.826416Z",
     "iopub.status.idle": "2024-03-26T22:19:28.832335Z",
     "shell.execute_reply": "2024-03-26T22:19:28.832032Z"
    },
    "papermill": {
     "duration": 0.017154,
     "end_time": "2024-03-26T22:19:28.832862",
     "exception": false,
     "start_time": "2024-03-26T22:19:28.815708",
     "status": "completed"
    },
    "tags": []
   },
   "outputs": [],
   "source": [
    "print(th_lassen.statsframe.tree(metric_column=\"Total time_median\"))"
   ]
  },
  {
   "cell_type": "markdown",
   "id": "7b0cd1b2",
   "metadata": {
    "papermill": {
     "duration": 0.009959,
     "end_time": "2024-03-26T22:19:28.853213",
     "exception": false,
     "start_time": "2024-03-26T22:19:28.843254",
     "status": "completed"
    },
    "tags": []
   },
   "source": [
    "#### Use the query language\n",
    "\n",
    "Thicket's query language provides users the capability to select or `query` specific nodes based on the call tree of the thicket. The performance data is then updated as part of the operation. \n",
    "\n",
    "**Initial call tree:** "
   ]
  },
  {
   "cell_type": "code",
   "execution_count": null,
   "id": "b704a382",
   "metadata": {
    "execution": {
     "iopub.execute_input": "2024-03-26T22:19:28.874152Z",
     "iopub.status.busy": "2024-03-26T22:19:28.874053Z",
     "iopub.status.idle": "2024-03-26T22:19:28.880315Z",
     "shell.execute_reply": "2024-03-26T22:19:28.880055Z"
    },
    "papermill": {
     "duration": 0.017221,
     "end_time": "2024-03-26T22:19:28.880830",
     "exception": false,
     "start_time": "2024-03-26T22:19:28.863609",
     "status": "completed"
    },
    "tags": []
   },
   "outputs": [],
   "source": [
    "print(th_lassen.statsframe.tree(\"Total time_median\"))"
   ]
  },
  {
   "cell_type": "markdown",
   "id": "fb9aa171",
   "metadata": {
    "papermill": {
     "duration": 0.010299,
     "end_time": "2024-03-26T22:19:28.901487",
     "exception": false,
     "start_time": "2024-03-26T22:19:28.891188",
     "status": "completed"
    },
    "tags": []
   },
   "source": [
    "**Example 1**\n",
    "\n",
    "In the example below, we use a thicket query that only select the parents and children nodes of `Algorithm`, maintaining the structure of the call tree.\n",
    "\n",
    "NOTE: A `DeprecationWarning` is generated when using “old-style” queries (i.e., queries with `QueryMatcher`) when using the newest version of Hatchet. In the future, queries will be defined with `Query`."
   ]
  },
  {
   "cell_type": "code",
   "execution_count": null,
   "id": "809876aa",
   "metadata": {
    "execution": {
     "iopub.execute_input": "2024-03-26T22:19:28.924009Z",
     "iopub.status.busy": "2024-03-26T22:19:28.923886Z",
     "iopub.status.idle": "2024-03-26T22:19:28.995460Z",
     "shell.execute_reply": "2024-03-26T22:19:28.995098Z"
    },
    "papermill": {
     "duration": 0.08347,
     "end_time": "2024-03-26T22:19:28.996109",
     "exception": false,
     "start_time": "2024-03-26T22:19:28.912639",
     "status": "completed"
    },
    "tags": []
   },
   "outputs": [],
   "source": [
    "alg_query_ex1 = (\n",
    "    ht.QueryMatcher()\n",
    "    .match(\"*\")\n",
    "    .rel(\n",
    "        \".\", \n",
    "        lambda row: row[\"name\"].apply(\n",
    "        lambda x: re.match(\n",
    "            r\"Algorithm.*\", x\n",
    "        ) \n",
    "        is not None).all()\n",
    "    )\n",
    ")\n",
    "    \n",
    "# applying the query on the lassen thicket\n",
    "th_algorithm_ex1 = th_lassen.query(alg_query_ex1)\n",
    "tt.median(th_algorithm_ex1, columns=[\"Total time\"])\n",
    "print(th_algorithm_ex1.statsframe.tree(\"Total time_median\"))"
   ]
  },
  {
   "cell_type": "markdown",
   "id": "3a45f87e",
   "metadata": {
    "papermill": {
     "duration": 0.011244,
     "end_time": "2024-03-26T22:19:29.018016",
     "exception": false,
     "start_time": "2024-03-26T22:19:29.006772",
     "status": "completed"
    },
    "tags": []
   },
   "source": [
    "**Example 2**\n",
    "\n",
    "In the example below, we use a thicket query that selects only the `Algorithm` node and its children nodes, maintaining the structure of the call tree.\n",
    "\n",
    "NOTE: A `DeprecationWarning` is generated when using “old-style” queries (i.e., queries with `QueryMatcher`) when using the newest version of Hatchet. In the future, queries will be defined with `Query`."
   ]
  },
  {
   "cell_type": "code",
   "execution_count": null,
   "id": "74750802",
   "metadata": {
    "execution": {
     "iopub.execute_input": "2024-03-26T22:19:29.039855Z",
     "iopub.status.busy": "2024-03-26T22:19:29.039721Z",
     "iopub.status.idle": "2024-03-26T22:19:29.101201Z",
     "shell.execute_reply": "2024-03-26T22:19:29.100844Z"
    },
    "papermill": {
     "duration": 0.073265,
     "end_time": "2024-03-26T22:19:29.101909",
     "exception": false,
     "start_time": "2024-03-26T22:19:29.028644",
     "status": "completed"
    },
    "tags": []
   },
   "outputs": [],
   "source": [
    "alg_query_ex2 = (\n",
    "    ht.QueryMatcher()\n",
    "    .match(\n",
    "        \".\",\n",
    "        lambda row: row[\"name\"].apply(\n",
    "        lambda x: re.match(\n",
    "            r\"Algorithm.*\", x\n",
    "        ) \n",
    "        is not None).all()\n",
    "    )\n",
    "    .rel(\"*\")\n",
    ")\n",
    "\n",
    "# applying the second query on the lassen thicket\n",
    "th_algorithm_ex2 = th_lassen.query(alg_query_ex2)\n",
    "tt.median(th_algorithm_ex2, columns=[\"Total time\"])\n",
    "print(th_algorithm_ex2.statsframe.tree(\"Total time_median\"))"
   ]
  },
  {
   "cell_type": "markdown",
   "id": "f56f29bf",
   "metadata": {
    "papermill": {
     "duration": 0.010385,
     "end_time": "2024-03-26T22:19:29.123509",
     "exception": false,
     "start_time": "2024-03-26T22:19:29.113124",
     "status": "completed"
    },
    "tags": []
   },
   "source": [
    "#### Display histogram\n",
    "\n",
    "The `display_histogram()` function allows users to select a node and metric value (a column in the performance data table) for which a histogram is generated.\n",
    "\n",
    "Some available keyword arguments are the following,\n",
    "\n",
    "* `height`: height (in inches) of each facet.\n",
    "* `aspect`: aspect ratio of each facet, aspect * height will give you the width of each facet.\n",
    "* `bins`: rather generic, and can set the number of bins.\n",
    "* `binwidth`: width of each bin, overrides bins but can be used with binrange.\n",
    "* `binrange`: lowest and highest value for bin edges; can be used either with bins or binwidth. Defaults to extremes.\n",
    "* `color`: Set the color of the bars.\n",
    "\n",
    "An exhaustive list of available arguments can be found [here](https://seaborn.pydata.org/generated/seaborn.displot.html).   "
   ]
  },
  {
   "cell_type": "code",
   "execution_count": null,
   "id": "4f8365ec",
   "metadata": {
    "execution": {
     "iopub.execute_input": "2024-03-26T22:19:29.145535Z",
     "iopub.status.busy": "2024-03-26T22:19:29.145413Z",
     "iopub.status.idle": "2024-03-26T22:19:29.148294Z",
     "shell.execute_reply": "2024-03-26T22:19:29.147986Z"
    },
    "papermill": {
     "duration": 0.014716,
     "end_time": "2024-03-26T22:19:29.148907",
     "exception": false,
     "start_time": "2024-03-26T22:19:29.134191",
     "status": "completed"
    },
    "tags": []
   },
   "outputs": [],
   "source": [
    "n = pd.unique(th_algorithm_ex1.dataframe.reset_index()[\"node\"])[0]"
   ]
  },
  {
   "cell_type": "code",
   "execution_count": null,
   "id": "6d836906",
   "metadata": {
    "execution": {
     "iopub.execute_input": "2024-03-26T22:19:29.170715Z",
     "iopub.status.busy": "2024-03-26T22:19:29.170610Z",
     "iopub.status.idle": "2024-03-26T22:19:29.265017Z",
     "shell.execute_reply": "2024-03-26T22:19:29.264062Z"
    },
    "papermill": {
     "duration": 0.106133,
     "end_time": "2024-03-26T22:19:29.265658",
     "exception": false,
     "start_time": "2024-03-26T22:19:29.159525",
     "status": "completed"
    },
    "tags": []
   },
   "outputs": [],
   "source": [
    "tt.display_histogram(th_algorithm_ex1, node=n, column=\"Total time\")"
   ]
  },
  {
   "cell_type": "markdown",
   "id": "82aed129",
   "metadata": {
    "papermill": {
     "duration": 0.010883,
     "end_time": "2024-03-26T22:19:29.288000",
     "exception": false,
     "start_time": "2024-03-26T22:19:29.277117",
     "status": "completed"
    },
    "tags": []
   },
   "source": [
    "#### Display heatmap\n",
    "\n",
    "The `display_heatmap()` function allows users to select column(s) from the performance data table, for which a heatmap is generated based on the values of the column.\n",
    "\n",
    "Some available keyword arguments are the following: \n",
    "* `vmax`: maximum value to anchor the color map.\n",
    "* `vmin`: minimum value to anchor the color map.\n",
    "* `linecolor`: color of the lines that will divide each cell.\n",
    "* `linewidths`: Width of the lines that will divide each cell.\n",
    "\n",
    "An exhaustive list of available arguments can be found [here](https://seaborn.pydata.org/generated/seaborn.heatmap.html).  "
   ]
  },
  {
   "cell_type": "code",
   "execution_count": null,
   "id": "6240832a",
   "metadata": {
    "execution": {
     "iopub.execute_input": "2024-03-26T22:19:29.310996Z",
     "iopub.status.busy": "2024-03-26T22:19:29.310872Z",
     "iopub.status.idle": "2024-03-26T22:19:29.454444Z",
     "shell.execute_reply": "2024-03-26T22:19:29.454095Z"
    },
    "papermill": {
     "duration": 0.156222,
     "end_time": "2024-03-26T22:19:29.455087",
     "exception": false,
     "start_time": "2024-03-26T22:19:29.298865",
     "status": "completed"
    },
    "tags": []
   },
   "outputs": [],
   "source": [
    "plt.figure(figsize=(30, 30))\n",
    "metrics = [\"Total time_median\"]\n",
    "tt.display_heatmap(th_algorithm_ex1, columns=metrics)"
   ]
  }
 ],
 "metadata": {
  "kernelspec": {
   "display_name": "Python 3",
   "language": "python",
   "name": "python3"
  },
  "language_info": {
   "codemirror_mode": {
    "name": "ipython",
    "version": 3
   },
   "file_extension": ".py",
   "mimetype": "text/x-python",
   "name": "python",
   "nbconvert_exporter": "python",
   "pygments_lexer": "ipython3",
   "version": "3.9.12"
  },
  "papermill": {
   "default_parameters": {},
   "duration": 3.570405,
   "end_time": "2024-03-26T22:19:29.810540",
   "environment_variables": {},
   "exception": null,
   "input_path": "01_thicket_tutorial.ipynb",
   "output_path": "01_thicket_tutorial.ipynb",
   "parameters": {},
   "start_time": "2024-03-26T22:19:26.240135",
   "version": "2.5.0"
  }
 },
 "nbformat": 4,
 "nbformat_minor": 5
}
