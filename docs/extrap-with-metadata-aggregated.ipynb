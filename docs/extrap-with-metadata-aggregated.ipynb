{
 "cells": [
  {
   "cell_type": "markdown",
   "id": "91c974e2",
   "metadata": {
    "papermill": {
     "duration": 0.009266,
     "end_time": "2024-03-26T22:19:34.421380",
     "exception": false,
     "start_time": "2024-03-26T22:19:34.412114",
     "status": "completed"
    },
    "tags": []
   },
   "source": [
    "# Thicket and Extra-P: Thicket Tutorial\n",
    "\n",
    "Thicket is a python-based toolkit for Exploratory Data Analysis (EDA) of parallel performance data that enables performance optimization and understanding of applications’ performance on supercomputers. It bridges the performance tool gap between being able to consider only a single instance of a simulation run (e.g., single platform, single measurement tool, or single scale) and finding actionable insights in multi-dimensional, multi-scale, multi-architecture, and multi-tool performance datasets.\n",
    "\n",
    "This notebook provides an example for using Thicket's modeling feature. The modeling capability relies on _Extra-P_ - a tool for empirical performance modeling. It can perform N-parameter modeling with up to 3 parameters (N <= 3). The models follow a so-called _Performance Model Normal Form (PMNF)_ that expresses models as a summation of polynomial and logarithmic terms. One of the biggest advantages of this modeling method is that the produced models are human-readable and easily understandable.\n",
    "\n",
    "**NOTE: An interactive version of this notebook is available in the Binder environment.**\n",
    "\n",
    "[![Binder](https://mybinder.org/badge_logo.svg)](https://mybinder.org/v2/gh/llnl/thicket-tutorial/develop)\n",
    "\n",
    "***\n",
    "\n",
    "## 1. Import Necessary Packages\n",
    "\n",
    "To explore the capabilities of thicket with Extra-P, we begin by importing necessary packages."
   ]
  },
  {
   "cell_type": "code",
   "execution_count": null,
   "id": "b367937a",
   "metadata": {
    "execution": {
     "iopub.execute_input": "2024-03-26T22:19:34.431720Z",
     "iopub.status.busy": "2024-03-26T22:19:34.431562Z",
     "iopub.status.idle": "2024-03-26T22:19:34.996385Z",
     "shell.execute_reply": "2024-03-26T22:19:34.996082Z"
    },
    "papermill": {
     "duration": 0.570774,
     "end_time": "2024-03-26T22:19:34.997035",
     "exception": false,
     "start_time": "2024-03-26T22:19:34.426261",
     "status": "completed"
    },
    "tags": []
   },
   "outputs": [],
   "source": [
    "import sys\n",
    "\n",
    "import matplotlib.pyplot as plt\n",
    "import pandas as pd\n",
    "from IPython.display import display\n",
    "from IPython.display import HTML\n",
    "\n",
    "import thicket as th\n",
    "from thicket.model_extrap import Modeling\n",
    "\n",
    "display(HTML(\"<style>.container { width:80% !important; }</style>\"))"
   ]
  },
  {
   "cell_type": "markdown",
   "id": "527feb27",
   "metadata": {
    "papermill": {
     "duration": 0.001987,
     "end_time": "2024-03-26T22:19:35.001172",
     "exception": false,
     "start_time": "2024-03-26T22:19:34.999185",
     "status": "completed"
    },
    "tags": []
   },
   "source": [
    "## 2. Define Dataset Paths and Names\n",
    "\n",
    "In this example, we use an MPI scaling study, profiled with Caliper, that has metadata about the runs. The data is also already aggregated, which means we can provide the data to Extra-P as-is."
   ]
  },
  {
   "cell_type": "code",
   "execution_count": null,
   "id": "85f92be1",
   "metadata": {
    "execution": {
     "iopub.execute_input": "2024-03-26T22:19:35.005355Z",
     "iopub.status.busy": "2024-03-26T22:19:35.005201Z",
     "iopub.status.idle": "2024-03-26T22:19:35.101339Z",
     "shell.execute_reply": "2024-03-26T22:19:35.100995Z"
    },
    "papermill": {
     "duration": 0.09905,
     "end_time": "2024-03-26T22:19:35.102019",
     "exception": false,
     "start_time": "2024-03-26T22:19:35.002969",
     "status": "completed"
    },
    "tags": []
   },
   "outputs": [],
   "source": [
    "data = \"../data/mpi_scaling_cali\"\n",
    "t_ens = th.Thicket.from_caliperreader(data)"
   ]
  },
  {
   "cell_type": "markdown",
   "id": "a7a13750",
   "metadata": {
    "papermill": {
     "duration": 0.001817,
     "end_time": "2024-03-26T22:19:35.106069",
     "exception": false,
     "start_time": "2024-03-26T22:19:35.104252",
     "status": "completed"
    },
    "tags": []
   },
   "source": [
    "Specifically, the metadata table for this set of profiles contains a `jobsize` column, which provides the amount of cores used for each profile."
   ]
  },
  {
   "cell_type": "code",
   "execution_count": null,
   "id": "90d2d4bc",
   "metadata": {
    "execution": {
     "iopub.execute_input": "2024-03-26T22:19:35.110010Z",
     "iopub.status.busy": "2024-03-26T22:19:35.109908Z",
     "iopub.status.idle": "2024-03-26T22:19:35.113366Z",
     "shell.execute_reply": "2024-03-26T22:19:35.113087Z"
    },
    "papermill": {
     "duration": 0.00615,
     "end_time": "2024-03-26T22:19:35.113989",
     "exception": false,
     "start_time": "2024-03-26T22:19:35.107839",
     "status": "completed"
    },
    "scrolled": true,
    "tags": []
   },
   "outputs": [],
   "source": [
    "t_ens.metadata[\"jobsize\"]"
   ]
  },
  {
   "cell_type": "markdown",
   "id": "c06a799b",
   "metadata": {
    "papermill": {
     "duration": 0.001784,
     "end_time": "2024-03-26T22:19:35.117678",
     "exception": false,
     "start_time": "2024-03-26T22:19:35.115894",
     "status": "completed"
    },
    "tags": []
   },
   "source": [
    "## 3. More Information on a Function\n",
    "***\n",
    "You can use the `help()` method within Python to see the information for a given object. You can do this by typing `help(object)`. \n",
    "This will allow you to see the arguments for the function, and what will be returned. An example is below."
   ]
  },
  {
   "cell_type": "code",
   "execution_count": null,
   "id": "156eb968",
   "metadata": {
    "execution": {
     "iopub.execute_input": "2024-03-26T22:19:35.121538Z",
     "iopub.status.busy": "2024-03-26T22:19:35.121449Z",
     "iopub.status.idle": "2024-03-26T22:19:35.124267Z",
     "shell.execute_reply": "2024-03-26T22:19:35.124003Z"
    },
    "papermill": {
     "duration": 0.005581,
     "end_time": "2024-03-26T22:19:35.124958",
     "exception": false,
     "start_time": "2024-03-26T22:19:35.119377",
     "status": "completed"
    },
    "tags": []
   },
   "outputs": [],
   "source": [
    "help(Modeling)"
   ]
  },
  {
   "cell_type": "markdown",
   "id": "bdc699f7",
   "metadata": {
    "papermill": {
     "duration": 0.001926,
     "end_time": "2024-03-26T22:19:35.128750",
     "exception": false,
     "start_time": "2024-03-26T22:19:35.126824",
     "status": "completed"
    },
    "tags": []
   },
   "source": [
    "## 3. Create Models\n",
    "\n",
    "First, we construct the `Modeling` object by passing all the relevant data to it. We provide `jobsize` as the `param_name` argument so the model will grab this column from the metadata table to use as our parameter. We also sub-select some metrics, since this dataset has a lot of metrics (otherwise the modeling will take a long time to do all metrics).\n",
    "\n",
    "Then, we call `produce_models` on that object (it's unnecessary to provide an aggregation function since the data is already aggregated.).\n",
    "\n",
    "**NOTE:** For this example, you can view all the metric columns by adding a new cell and running: `t_ens.performance_cols`. "
   ]
  },
  {
   "cell_type": "code",
   "execution_count": null,
   "id": "7ddf3c43",
   "metadata": {
    "execution": {
     "iopub.execute_input": "2024-03-26T22:19:35.132690Z",
     "iopub.status.busy": "2024-03-26T22:19:35.132600Z",
     "iopub.status.idle": "2024-03-26T22:19:35.394408Z",
     "shell.execute_reply": "2024-03-26T22:19:35.394043Z"
    },
    "papermill": {
     "duration": 0.264717,
     "end_time": "2024-03-26T22:19:35.395246",
     "exception": false,
     "start_time": "2024-03-26T22:19:35.130529",
     "status": "completed"
    },
    "tags": []
   },
   "outputs": [],
   "source": [
    "mdl = Modeling(\n",
    "    t_ens,\n",
    "    \"jobsize\",\n",
    "    chosen_metrics=[\n",
    "        \"Total time\",\n",
    "    ],\n",
    ")\n",
    "\n",
    "mdl.produce_models()"
   ]
  },
  {
   "cell_type": "markdown",
   "id": "4c46a91a",
   "metadata": {
    "papermill": {
     "duration": 0.001972,
     "end_time": "2024-03-26T22:19:35.399633",
     "exception": false,
     "start_time": "2024-03-26T22:19:35.397661",
     "status": "completed"
    },
    "tags": []
   },
   "source": [
    "## 4. Models Dataframe\n",
    "\n",
    "Model hypothesis functions are stored in thicket's aggregated statistics table."
   ]
  },
  {
   "cell_type": "code",
   "execution_count": null,
   "id": "00fae139",
   "metadata": {
    "execution": {
     "iopub.execute_input": "2024-03-26T22:19:35.403738Z",
     "iopub.status.busy": "2024-03-26T22:19:35.403632Z",
     "iopub.status.idle": "2024-03-26T22:19:35.412328Z",
     "shell.execute_reply": "2024-03-26T22:19:35.412073Z"
    },
    "papermill": {
     "duration": 0.01143,
     "end_time": "2024-03-26T22:19:35.412871",
     "exception": false,
     "start_time": "2024-03-26T22:19:35.401441",
     "status": "completed"
    },
    "scrolled": false,
    "tags": []
   },
   "outputs": [],
   "source": [
    "t_ens.statsframe.dataframe"
   ]
  },
  {
   "cell_type": "markdown",
   "id": "b216388a",
   "metadata": {
    "papermill": {
     "duration": 0.002199,
     "end_time": "2024-03-26T22:19:35.417694",
     "exception": false,
     "start_time": "2024-03-26T22:19:35.415495",
     "status": "completed"
    },
    "tags": []
   },
   "source": [
    "## 5. Show the Models Dataframe with Embedded Plots\n",
    "\n",
    "(For every `node`, sub-selected `metric` combination)"
   ]
  },
  {
   "cell_type": "code",
   "execution_count": null,
   "id": "ce8a5992",
   "metadata": {
    "execution": {
     "iopub.execute_input": "2024-03-26T22:19:35.422454Z",
     "iopub.status.busy": "2024-03-26T22:19:35.422359Z",
     "iopub.status.idle": "2024-03-26T22:19:36.353204Z",
     "shell.execute_reply": "2024-03-26T22:19:36.352857Z"
    },
    "papermill": {
     "duration": 0.937291,
     "end_time": "2024-03-26T22:19:36.357160",
     "exception": false,
     "start_time": "2024-03-26T22:19:35.419869",
     "status": "completed"
    },
    "scrolled": true,
    "tags": []
   },
   "outputs": [],
   "source": [
    "with pd.option_context(\"display.max_colwidth\", 1):\n",
    "    display(HTML(mdl.to_html()))"
   ]
  },
  {
   "cell_type": "markdown",
   "id": "02040fee",
   "metadata": {
    "papermill": {
     "duration": 0.009047,
     "end_time": "2024-03-26T22:19:36.375881",
     "exception": false,
     "start_time": "2024-03-26T22:19:36.366834",
     "status": "completed"
    },
    "tags": []
   },
   "source": [
    "## 6. Query Specific Model\n",
    "\n",
    "The 1st node `{\"name\": \"MPI_Allreduce\", \"type\": \"function\"}`, has an interesting graph so we want to retrieve its model. This can be achieved by indexing into the aggregated statistics table for our chosen node for the metric `Total time_extrap-model`."
   ]
  },
  {
   "cell_type": "code",
   "execution_count": null,
   "id": "fe12f84e",
   "metadata": {
    "execution": {
     "iopub.execute_input": "2024-03-26T22:19:36.394214Z",
     "iopub.status.busy": "2024-03-26T22:19:36.394094Z",
     "iopub.status.idle": "2024-03-26T22:19:36.396125Z",
     "shell.execute_reply": "2024-03-26T22:19:36.395890Z"
    },
    "papermill": {
     "duration": 0.011975,
     "end_time": "2024-03-26T22:19:36.396747",
     "exception": false,
     "start_time": "2024-03-26T22:19:36.384772",
     "status": "completed"
    },
    "tags": []
   },
   "outputs": [],
   "source": [
    "model_obj = t_ens.statsframe.dataframe.at[t_ens.statsframe.dataframe.index[0], \"Total time_extrap-model\"]"
   ]
  },
  {
   "cell_type": "markdown",
   "id": "be06353f",
   "metadata": {
    "papermill": {
     "duration": 0.008673,
     "end_time": "2024-03-26T22:19:36.414379",
     "exception": false,
     "start_time": "2024-03-26T22:19:36.405706",
     "status": "completed"
    },
    "tags": []
   },
   "source": [
    "## 7. Operations on a model\n",
    "\n",
    "We can evaluate the model at a value like a function."
   ]
  },
  {
   "cell_type": "code",
   "execution_count": null,
   "id": "87f83e4d",
   "metadata": {
    "execution": {
     "iopub.execute_input": "2024-03-26T22:19:36.432518Z",
     "iopub.status.busy": "2024-03-26T22:19:36.432410Z",
     "iopub.status.idle": "2024-03-26T22:19:36.435346Z",
     "shell.execute_reply": "2024-03-26T22:19:36.435033Z"
    },
    "papermill": {
     "duration": 0.012652,
     "end_time": "2024-03-26T22:19:36.435910",
     "exception": false,
     "start_time": "2024-03-26T22:19:36.423258",
     "status": "completed"
    },
    "tags": []
   },
   "outputs": [],
   "source": [
    "model_obj.eval(600)"
   ]
  },
  {
   "cell_type": "markdown",
   "id": "9ab2455f",
   "metadata": {
    "papermill": {
     "duration": 0.008339,
     "end_time": "2024-03-26T22:19:36.452940",
     "exception": false,
     "start_time": "2024-03-26T22:19:36.444601",
     "status": "completed"
    },
    "tags": []
   },
   "source": [
    "### Displaying the model:\n",
    "\n",
    "It returns a _figure_ and an _axis_ objects. The axis object can be used to adjust the plot, i.e., change labels. The `display()` function requires an input for `RSS` (bool), that determines whether to display Extra-P RSS on the plot."
   ]
  },
  {
   "cell_type": "code",
   "execution_count": null,
   "id": "3595eb4e",
   "metadata": {
    "execution": {
     "iopub.execute_input": "2024-03-26T22:19:36.470435Z",
     "iopub.status.busy": "2024-03-26T22:19:36.470332Z",
     "iopub.status.idle": "2024-03-26T22:19:36.513593Z",
     "shell.execute_reply": "2024-03-26T22:19:36.513204Z"
    },
    "papermill": {
     "duration": 0.052804,
     "end_time": "2024-03-26T22:19:36.514310",
     "exception": false,
     "start_time": "2024-03-26T22:19:36.461506",
     "status": "completed"
    },
    "tags": []
   },
   "outputs": [],
   "source": [
    "plt.clf()\n",
    "fig, ax = model_obj.display(RSS=False)\n",
    "plt.show()"
   ]
  }
 ],
 "metadata": {
  "kernelspec": {
   "display_name": "Python 3",
   "language": "python",
   "name": "python3"
  },
  "language_info": {
   "codemirror_mode": {
    "name": "ipython",
    "version": 3
   },
   "file_extension": ".py",
   "mimetype": "text/x-python",
   "name": "python",
   "nbconvert_exporter": "python",
   "pygments_lexer": "ipython3",
   "version": "3.9.12"
  },
  "papermill": {
   "default_parameters": {},
   "duration": 3.207762,
   "end_time": "2024-03-26T22:19:36.847727",
   "environment_variables": {},
   "exception": null,
   "input_path": "03_extrap-with-metadata-aggregated.ipynb",
   "output_path": "03_extrap-with-metadata-aggregated.ipynb",
   "parameters": {},
   "start_time": "2024-03-26T22:19:33.639965",
   "version": "2.5.0"
  },
  "vscode": {
   "interpreter": {
    "hash": "e9b2a95c73c2c3cbd2385f2b17bb401a2882e839041a509387bd5d08c5b62925"
   }
  }
 },
 "nbformat": 4,
 "nbformat_minor": 5
}
