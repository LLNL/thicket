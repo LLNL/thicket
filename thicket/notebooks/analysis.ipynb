{
 "cells": [
  {
   "cell_type": "code",
   "execution_count": null,
   "metadata": {},
   "outputs": [],
   "source": [
    "import sys\n",
    "sys.path.append(\"../../hatchet\")\n",
    "import hatchet as ht\n",
    "import pandas as pd\n",
    "\n",
    "PROFILE=\"profile-1656442505.2109804\"\n",
    "DIR=f\"/g/g20/mckinsey/data/thicket_profiling/{PROFILE}/\""
   ]
  },
  {
   "cell_type": "code",
   "execution_count": null,
   "metadata": {},
   "outputs": [],
   "source": [
    "t0 = ht.GraphFrame.from_cprofile(f\"{DIR}t0.pstats\")\n",
    "t1 = ht.GraphFrame.from_cprofile(f\"{DIR}t1.pstats\")\n",
    "t2 = ht.GraphFrame.from_cprofile(f\"{DIR}t2.pstats\")\n",
    "t3 = ht.GraphFrame.from_cprofile(f\"{DIR}t3.pstats\")\n",
    "t4 = ht.GraphFrame.from_cprofile(f\"{DIR}t4.pstats\")\n",
    "t5 = ht.GraphFrame.from_cprofile(f\"{DIR}t5.pstats\")\n",
    "t6 = ht.GraphFrame.from_cprofile(f\"{DIR}t6.pstats\")\n",
    "t7 = ht.GraphFrame.from_cprofile(f\"{DIR}t7.pstats\")\n",
    "t8 = ht.GraphFrame.from_cprofile(f\"{DIR}t8.pstats\")\n",
    "t9 = ht.GraphFrame.from_cprofile(f\"{DIR}t9.pstats\")\n",
    "t_list = [t0, t1, t2, t3, t4, t5, t6, t7, t8, t9]\n",
    "\n",
    "ens = ht.GraphFrame.from_cprofile(f\"{DIR}unify-ensemble.pstats\")\n",
    "graph_opt = ht.GraphFrame.from_cprofile(f\"{DIR}opt-union.pstats\")"
   ]
  },
  {
   "cell_type": "code",
   "execution_count": null,
   "metadata": {},
   "outputs": [],
   "source": [
    "pd.set_option('display.width', 10000)\n",
    "\n",
    "# Profile for unify_ensemble\n",
    "print(ens.dataframe.sort_values(['time (inc)'], ascending=False).head(20))\n",
    "#print(ens.tree(expand_name=True, metric_column=[\"time (inc)\", \"time\"]))\n",
    "print(graph_opt.dataframe.sort_values(['time (inc)'], ascending=False).head(20))"
   ]
  },
  {
   "cell_type": "code",
   "execution_count": null,
   "metadata": {},
   "outputs": [],
   "source": [
    "# Profile for reading datasets into thicket\n",
    "for t in t_list:\n",
    "    print(t.dataframe.sort_values(['time (inc)'], ascending=False).head(10))"
   ]
  }
 ],
 "metadata": {
  "kernelspec": {
   "display_name": "Python 3.7.2 64-bit",
   "language": "python",
   "name": "python3"
  },
  "language_info": {
   "codemirror_mode": {
    "name": "ipython",
    "version": 3
   },
   "file_extension": ".py",
   "mimetype": "text/x-python",
   "name": "python",
   "nbconvert_exporter": "python",
   "pygments_lexer": "ipython3",
   "version": "3.7.2"
  },
  "orig_nbformat": 4,
  "vscode": {
   "interpreter": {
    "hash": "256a7777c62f8684c6b90e08c6b4fb76c61b7b608dc694815cef038b99e6f982"
   }
  }
 },
 "nbformat": 4,
 "nbformat_minor": 2
}
